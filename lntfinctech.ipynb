{
  "nbformat": 4,
  "nbformat_minor": 0,
  "metadata": {
    "colab": {
      "name": "lntfinctech.ipynb",
      "version": "0.3.2",
      "provenance": [],
      "toc_visible": true
    },
    "language_info": {
      "codemirror_mode": {
        "name": "ipython",
        "version": 3
      },
      "file_extension": ".py",
      "mimetype": "text/x-python",
      "name": "python",
      "nbconvert_exporter": "python",
      "pygments_lexer": "ipython3",
      "version": "3.5.2"
    },
    "kernelspec": {
      "display_name": "Python 3",
      "language": "python",
      "name": "python3"
    }
  },
  "cells": [
    {
      "cell_type": "code",
      "metadata": {
        "id": "SRMUr_XBXH92",
        "colab_type": "code",
        "colab": {}
      },
      "source": [
        "import pandas as pd\n",
        "import numpy as np\n",
        "import matplotlib.pyplot as plt\n",
        "import seaborn as sln\n",
        "%matplotlib inline\n",
        "#cleaning\n",
        "import re\n",
        "from sklearn.preprocessing import StandardScaler\n",
        "from sklearn.metrics import confusion_matrix,classification_report,roc_auc_score\n",
        "#\n",
        "from category_encoders.target_encoder import TargetEncoder"
      ],
      "execution_count": 0,
      "outputs": []
    },
    {
      "cell_type": "code",
      "metadata": {
        "id": "6wUKkuPjXH96",
        "colab_type": "code",
        "outputId": "e2881d2f-df49-4f4c-f1f1-ae045cffb1f5",
        "colab": {
          "base_uri": "https://localhost:8080/",
          "height": 275
        }
      },
      "source": [
        "! pip3 install category_encoders"
      ],
      "execution_count": 0,
      "outputs": [
        {
          "output_type": "stream",
          "text": [
            "Collecting category_encoders\n",
            "\u001b[?25l  Downloading https://files.pythonhosted.org/packages/f7/d3/82a4b85a87ece114f6d0139d643580c726efa45fa4db3b81aed38c0156c5/category_encoders-1.3.0-py2.py3-none-any.whl (61kB)\n",
            "\u001b[K    100% |████████████████████████████████| 61kB 2.4MB/s \n",
            "\u001b[?25hRequirement already satisfied: scikit-learn>=0.17.1 in /usr/local/lib/python3.6/dist-packages (from category_encoders) (0.20.3)\n",
            "Requirement already satisfied: pandas>=0.20.1 in /usr/local/lib/python3.6/dist-packages (from category_encoders) (0.23.4)\n",
            "Requirement already satisfied: numpy>=1.11.1 in /usr/local/lib/python3.6/dist-packages (from category_encoders) (1.16.2)\n",
            "Requirement already satisfied: patsy>=0.4.1 in /usr/local/lib/python3.6/dist-packages (from category_encoders) (0.5.1)\n",
            "Requirement already satisfied: scipy>=0.17.0 in /usr/local/lib/python3.6/dist-packages (from category_encoders) (1.2.1)\n",
            "Requirement already satisfied: statsmodels>=0.6.1 in /usr/local/lib/python3.6/dist-packages (from category_encoders) (0.8.0)\n",
            "Requirement already satisfied: python-dateutil>=2.5.0 in /usr/local/lib/python3.6/dist-packages (from pandas>=0.20.1->category_encoders) (2.5.3)\n",
            "Requirement already satisfied: pytz>=2011k in /usr/local/lib/python3.6/dist-packages (from pandas>=0.20.1->category_encoders) (2018.9)\n",
            "Requirement already satisfied: six in /usr/local/lib/python3.6/dist-packages (from patsy>=0.4.1->category_encoders) (1.11.0)\n",
            "Installing collected packages: category-encoders\n",
            "Successfully installed category-encoders-1.3.0\n"
          ],
          "name": "stdout"
        }
      ]
    },
    {
      "cell_type": "code",
      "metadata": {
        "id": "WpUuJmctXH-A",
        "colab_type": "code",
        "colab": {}
      },
      "source": [
        "#sklearn \n",
        "from sklearn.model_selection import train_test_split,cross_validate\n",
        "from sklearn.linear_model import LogisticRegression"
      ],
      "execution_count": 0,
      "outputs": []
    },
    {
      "cell_type": "code",
      "metadata": {
        "id": "YX_3GpUdXH-E",
        "colab_type": "code",
        "colab": {}
      },
      "source": [
        "train=pd.read_csv('/content/drive/My Drive/train (1).csv')"
      ],
      "execution_count": 0,
      "outputs": []
    },
    {
      "cell_type": "code",
      "metadata": {
        "id": "mP7nnn-1XH-I",
        "colab_type": "code",
        "colab": {}
      },
      "source": [
        "pd.set_option('display.max_columns', 500)"
      ],
      "execution_count": 0,
      "outputs": []
    },
    {
      "cell_type": "code",
      "metadata": {
        "id": "Qc4IZTM7XH-L",
        "colab_type": "code",
        "colab": {}
      },
      "source": [
        "train['loan_default'].value_counts()"
      ],
      "execution_count": 0,
      "outputs": []
    },
    {
      "cell_type": "code",
      "metadata": {
        "id": "31p49mNfXH-O",
        "colab_type": "code",
        "outputId": "af763c1c-d7a6-4583-eb34-1b194b5c1445",
        "colab": {}
      },
      "source": [
        "train.head()"
      ],
      "execution_count": 0,
      "outputs": [
        {
          "output_type": "execute_result",
          "data": {
            "text/html": [
              "<div>\n",
              "<style scoped>\n",
              "    .dataframe tbody tr th:only-of-type {\n",
              "        vertical-align: middle;\n",
              "    }\n",
              "\n",
              "    .dataframe tbody tr th {\n",
              "        vertical-align: top;\n",
              "    }\n",
              "\n",
              "    .dataframe thead th {\n",
              "        text-align: right;\n",
              "    }\n",
              "</style>\n",
              "<table border=\"1\" class=\"dataframe\">\n",
              "  <thead>\n",
              "    <tr style=\"text-align: right;\">\n",
              "      <th></th>\n",
              "      <th>UniqueID</th>\n",
              "      <th>disbursed_amount</th>\n",
              "      <th>asset_cost</th>\n",
              "      <th>ltv</th>\n",
              "      <th>branch_id</th>\n",
              "      <th>supplier_id</th>\n",
              "      <th>manufacturer_id</th>\n",
              "      <th>Current_pincode_ID</th>\n",
              "      <th>Date.of.Birth</th>\n",
              "      <th>Employment.Type</th>\n",
              "      <th>DisbursalDate</th>\n",
              "      <th>State_ID</th>\n",
              "      <th>Employee_code_ID</th>\n",
              "      <th>MobileNo_Avl_Flag</th>\n",
              "      <th>Aadhar_flag</th>\n",
              "      <th>PAN_flag</th>\n",
              "      <th>VoterID_flag</th>\n",
              "      <th>Driving_flag</th>\n",
              "      <th>Passport_flag</th>\n",
              "      <th>PERFORM_CNS.SCORE</th>\n",
              "      <th>PERFORM_CNS.SCORE.DESCRIPTION</th>\n",
              "      <th>PRI.NO.OF.ACCTS</th>\n",
              "      <th>PRI.ACTIVE.ACCTS</th>\n",
              "      <th>PRI.OVERDUE.ACCTS</th>\n",
              "      <th>PRI.CURRENT.BALANCE</th>\n",
              "      <th>PRI.SANCTIONED.AMOUNT</th>\n",
              "      <th>PRI.DISBURSED.AMOUNT</th>\n",
              "      <th>SEC.NO.OF.ACCTS</th>\n",
              "      <th>SEC.ACTIVE.ACCTS</th>\n",
              "      <th>SEC.OVERDUE.ACCTS</th>\n",
              "      <th>SEC.CURRENT.BALANCE</th>\n",
              "      <th>SEC.SANCTIONED.AMOUNT</th>\n",
              "      <th>SEC.DISBURSED.AMOUNT</th>\n",
              "      <th>PRIMARY.INSTAL.AMT</th>\n",
              "      <th>SEC.INSTAL.AMT</th>\n",
              "      <th>NEW.ACCTS.IN.LAST.SIX.MONTHS</th>\n",
              "      <th>DELINQUENT.ACCTS.IN.LAST.SIX.MONTHS</th>\n",
              "      <th>AVERAGE.ACCT.AGE</th>\n",
              "      <th>CREDIT.HISTORY.LENGTH</th>\n",
              "      <th>NO.OF_INQUIRIES</th>\n",
              "      <th>loan_default</th>\n",
              "    </tr>\n",
              "  </thead>\n",
              "  <tbody>\n",
              "    <tr>\n",
              "      <th>0</th>\n",
              "      <td>420825</td>\n",
              "      <td>50578</td>\n",
              "      <td>58400</td>\n",
              "      <td>89.55</td>\n",
              "      <td>67</td>\n",
              "      <td>22807</td>\n",
              "      <td>45</td>\n",
              "      <td>1441</td>\n",
              "      <td>01-01-84</td>\n",
              "      <td>Salaried</td>\n",
              "      <td>03-08-18</td>\n",
              "      <td>6</td>\n",
              "      <td>1998</td>\n",
              "      <td>1</td>\n",
              "      <td>1</td>\n",
              "      <td>0</td>\n",
              "      <td>0</td>\n",
              "      <td>0</td>\n",
              "      <td>0</td>\n",
              "      <td>0</td>\n",
              "      <td>No Bureau History Available</td>\n",
              "      <td>0</td>\n",
              "      <td>0</td>\n",
              "      <td>0</td>\n",
              "      <td>0</td>\n",
              "      <td>0</td>\n",
              "      <td>0</td>\n",
              "      <td>0</td>\n",
              "      <td>0</td>\n",
              "      <td>0</td>\n",
              "      <td>0</td>\n",
              "      <td>0</td>\n",
              "      <td>0</td>\n",
              "      <td>0</td>\n",
              "      <td>0</td>\n",
              "      <td>0</td>\n",
              "      <td>0</td>\n",
              "      <td>0yrs 0mon</td>\n",
              "      <td>0yrs 0mon</td>\n",
              "      <td>0</td>\n",
              "      <td>0</td>\n",
              "    </tr>\n",
              "    <tr>\n",
              "      <th>1</th>\n",
              "      <td>537409</td>\n",
              "      <td>47145</td>\n",
              "      <td>65550</td>\n",
              "      <td>73.23</td>\n",
              "      <td>67</td>\n",
              "      <td>22807</td>\n",
              "      <td>45</td>\n",
              "      <td>1502</td>\n",
              "      <td>31-07-85</td>\n",
              "      <td>Self employed</td>\n",
              "      <td>26-09-18</td>\n",
              "      <td>6</td>\n",
              "      <td>1998</td>\n",
              "      <td>1</td>\n",
              "      <td>1</td>\n",
              "      <td>0</td>\n",
              "      <td>0</td>\n",
              "      <td>0</td>\n",
              "      <td>0</td>\n",
              "      <td>598</td>\n",
              "      <td>I-Medium Risk</td>\n",
              "      <td>1</td>\n",
              "      <td>1</td>\n",
              "      <td>1</td>\n",
              "      <td>27600</td>\n",
              "      <td>50200</td>\n",
              "      <td>50200</td>\n",
              "      <td>0</td>\n",
              "      <td>0</td>\n",
              "      <td>0</td>\n",
              "      <td>0</td>\n",
              "      <td>0</td>\n",
              "      <td>0</td>\n",
              "      <td>1991</td>\n",
              "      <td>0</td>\n",
              "      <td>0</td>\n",
              "      <td>1</td>\n",
              "      <td>1yrs 11mon</td>\n",
              "      <td>1yrs 11mon</td>\n",
              "      <td>0</td>\n",
              "      <td>1</td>\n",
              "    </tr>\n",
              "    <tr>\n",
              "      <th>2</th>\n",
              "      <td>417566</td>\n",
              "      <td>53278</td>\n",
              "      <td>61360</td>\n",
              "      <td>89.63</td>\n",
              "      <td>67</td>\n",
              "      <td>22807</td>\n",
              "      <td>45</td>\n",
              "      <td>1497</td>\n",
              "      <td>24-08-85</td>\n",
              "      <td>Self employed</td>\n",
              "      <td>01-08-18</td>\n",
              "      <td>6</td>\n",
              "      <td>1998</td>\n",
              "      <td>1</td>\n",
              "      <td>1</td>\n",
              "      <td>0</td>\n",
              "      <td>0</td>\n",
              "      <td>0</td>\n",
              "      <td>0</td>\n",
              "      <td>0</td>\n",
              "      <td>No Bureau History Available</td>\n",
              "      <td>0</td>\n",
              "      <td>0</td>\n",
              "      <td>0</td>\n",
              "      <td>0</td>\n",
              "      <td>0</td>\n",
              "      <td>0</td>\n",
              "      <td>0</td>\n",
              "      <td>0</td>\n",
              "      <td>0</td>\n",
              "      <td>0</td>\n",
              "      <td>0</td>\n",
              "      <td>0</td>\n",
              "      <td>0</td>\n",
              "      <td>0</td>\n",
              "      <td>0</td>\n",
              "      <td>0</td>\n",
              "      <td>0yrs 0mon</td>\n",
              "      <td>0yrs 0mon</td>\n",
              "      <td>0</td>\n",
              "      <td>0</td>\n",
              "    </tr>\n",
              "    <tr>\n",
              "      <th>3</th>\n",
              "      <td>624493</td>\n",
              "      <td>57513</td>\n",
              "      <td>66113</td>\n",
              "      <td>88.48</td>\n",
              "      <td>67</td>\n",
              "      <td>22807</td>\n",
              "      <td>45</td>\n",
              "      <td>1501</td>\n",
              "      <td>30-12-93</td>\n",
              "      <td>Self employed</td>\n",
              "      <td>26-10-18</td>\n",
              "      <td>6</td>\n",
              "      <td>1998</td>\n",
              "      <td>1</td>\n",
              "      <td>1</td>\n",
              "      <td>0</td>\n",
              "      <td>0</td>\n",
              "      <td>0</td>\n",
              "      <td>0</td>\n",
              "      <td>305</td>\n",
              "      <td>L-Very High Risk</td>\n",
              "      <td>3</td>\n",
              "      <td>0</td>\n",
              "      <td>0</td>\n",
              "      <td>0</td>\n",
              "      <td>0</td>\n",
              "      <td>0</td>\n",
              "      <td>0</td>\n",
              "      <td>0</td>\n",
              "      <td>0</td>\n",
              "      <td>0</td>\n",
              "      <td>0</td>\n",
              "      <td>0</td>\n",
              "      <td>31</td>\n",
              "      <td>0</td>\n",
              "      <td>0</td>\n",
              "      <td>0</td>\n",
              "      <td>0yrs 8mon</td>\n",
              "      <td>1yrs 3mon</td>\n",
              "      <td>1</td>\n",
              "      <td>1</td>\n",
              "    </tr>\n",
              "    <tr>\n",
              "      <th>4</th>\n",
              "      <td>539055</td>\n",
              "      <td>52378</td>\n",
              "      <td>60300</td>\n",
              "      <td>88.39</td>\n",
              "      <td>67</td>\n",
              "      <td>22807</td>\n",
              "      <td>45</td>\n",
              "      <td>1495</td>\n",
              "      <td>09-12-77</td>\n",
              "      <td>Self employed</td>\n",
              "      <td>26-09-18</td>\n",
              "      <td>6</td>\n",
              "      <td>1998</td>\n",
              "      <td>1</td>\n",
              "      <td>1</td>\n",
              "      <td>0</td>\n",
              "      <td>0</td>\n",
              "      <td>0</td>\n",
              "      <td>0</td>\n",
              "      <td>0</td>\n",
              "      <td>No Bureau History Available</td>\n",
              "      <td>0</td>\n",
              "      <td>0</td>\n",
              "      <td>0</td>\n",
              "      <td>0</td>\n",
              "      <td>0</td>\n",
              "      <td>0</td>\n",
              "      <td>0</td>\n",
              "      <td>0</td>\n",
              "      <td>0</td>\n",
              "      <td>0</td>\n",
              "      <td>0</td>\n",
              "      <td>0</td>\n",
              "      <td>0</td>\n",
              "      <td>0</td>\n",
              "      <td>0</td>\n",
              "      <td>0</td>\n",
              "      <td>0yrs 0mon</td>\n",
              "      <td>0yrs 0mon</td>\n",
              "      <td>1</td>\n",
              "      <td>1</td>\n",
              "    </tr>\n",
              "  </tbody>\n",
              "</table>\n",
              "</div>"
            ],
            "text/plain": [
              "   UniqueID  disbursed_amount  asset_cost    ltv  branch_id  supplier_id  \\\n",
              "0    420825             50578       58400  89.55         67        22807   \n",
              "1    537409             47145       65550  73.23         67        22807   \n",
              "2    417566             53278       61360  89.63         67        22807   \n",
              "3    624493             57513       66113  88.48         67        22807   \n",
              "4    539055             52378       60300  88.39         67        22807   \n",
              "\n",
              "   manufacturer_id  Current_pincode_ID Date.of.Birth Employment.Type  \\\n",
              "0               45                1441      01-01-84        Salaried   \n",
              "1               45                1502      31-07-85   Self employed   \n",
              "2               45                1497      24-08-85   Self employed   \n",
              "3               45                1501      30-12-93   Self employed   \n",
              "4               45                1495      09-12-77   Self employed   \n",
              "\n",
              "  DisbursalDate  State_ID  Employee_code_ID  MobileNo_Avl_Flag  Aadhar_flag  \\\n",
              "0      03-08-18         6              1998                  1            1   \n",
              "1      26-09-18         6              1998                  1            1   \n",
              "2      01-08-18         6              1998                  1            1   \n",
              "3      26-10-18         6              1998                  1            1   \n",
              "4      26-09-18         6              1998                  1            1   \n",
              "\n",
              "   PAN_flag  VoterID_flag  Driving_flag  Passport_flag  PERFORM_CNS.SCORE  \\\n",
              "0         0             0             0              0                  0   \n",
              "1         0             0             0              0                598   \n",
              "2         0             0             0              0                  0   \n",
              "3         0             0             0              0                305   \n",
              "4         0             0             0              0                  0   \n",
              "\n",
              "  PERFORM_CNS.SCORE.DESCRIPTION  PRI.NO.OF.ACCTS  PRI.ACTIVE.ACCTS  \\\n",
              "0   No Bureau History Available                0                 0   \n",
              "1                 I-Medium Risk                1                 1   \n",
              "2   No Bureau History Available                0                 0   \n",
              "3              L-Very High Risk                3                 0   \n",
              "4   No Bureau History Available                0                 0   \n",
              "\n",
              "   PRI.OVERDUE.ACCTS  PRI.CURRENT.BALANCE  PRI.SANCTIONED.AMOUNT  \\\n",
              "0                  0                    0                      0   \n",
              "1                  1                27600                  50200   \n",
              "2                  0                    0                      0   \n",
              "3                  0                    0                      0   \n",
              "4                  0                    0                      0   \n",
              "\n",
              "   PRI.DISBURSED.AMOUNT  SEC.NO.OF.ACCTS  SEC.ACTIVE.ACCTS  SEC.OVERDUE.ACCTS  \\\n",
              "0                     0                0                 0                  0   \n",
              "1                 50200                0                 0                  0   \n",
              "2                     0                0                 0                  0   \n",
              "3                     0                0                 0                  0   \n",
              "4                     0                0                 0                  0   \n",
              "\n",
              "   SEC.CURRENT.BALANCE  SEC.SANCTIONED.AMOUNT  SEC.DISBURSED.AMOUNT  \\\n",
              "0                    0                      0                     0   \n",
              "1                    0                      0                     0   \n",
              "2                    0                      0                     0   \n",
              "3                    0                      0                     0   \n",
              "4                    0                      0                     0   \n",
              "\n",
              "   PRIMARY.INSTAL.AMT  SEC.INSTAL.AMT  NEW.ACCTS.IN.LAST.SIX.MONTHS  \\\n",
              "0                   0               0                             0   \n",
              "1                1991               0                             0   \n",
              "2                   0               0                             0   \n",
              "3                  31               0                             0   \n",
              "4                   0               0                             0   \n",
              "\n",
              "   DELINQUENT.ACCTS.IN.LAST.SIX.MONTHS AVERAGE.ACCT.AGE CREDIT.HISTORY.LENGTH  \\\n",
              "0                                    0        0yrs 0mon             0yrs 0mon   \n",
              "1                                    1       1yrs 11mon            1yrs 11mon   \n",
              "2                                    0        0yrs 0mon             0yrs 0mon   \n",
              "3                                    0        0yrs 8mon             1yrs 3mon   \n",
              "4                                    0        0yrs 0mon             0yrs 0mon   \n",
              "\n",
              "   NO.OF_INQUIRIES  loan_default  \n",
              "0                0             0  \n",
              "1                0             1  \n",
              "2                0             0  \n",
              "3                1             1  \n",
              "4                1             1  "
            ]
          },
          "metadata": {
            "tags": []
          },
          "execution_count": 68
        }
      ]
    },
    {
      "cell_type": "code",
      "metadata": {
        "id": "fsYv4GHeXH-T",
        "colab_type": "code",
        "outputId": "8f7b6748-c828-4b03-ffca-efebce404f38",
        "colab": {}
      },
      "source": [
        "#lets check whether balanced or unbalanced\n",
        "print(train['loan_default'].value_counts()/train.shape[0])"
      ],
      "execution_count": 0,
      "outputs": [
        {
          "output_type": "stream",
          "text": [
            "0    0.782929\n",
            "1    0.217071\n",
            "Name: loan_default, dtype: float64\n"
          ],
          "name": "stdout"
        }
      ]
    },
    {
      "cell_type": "code",
      "metadata": {
        "id": "D-7SEhc4XH-Z",
        "colab_type": "code",
        "colab": {}
      },
      "source": [
        "train.isnull().sum()"
      ],
      "execution_count": 0,
      "outputs": []
    },
    {
      "cell_type": "code",
      "metadata": {
        "id": "Jb82o1AIXH-c",
        "colab_type": "code",
        "outputId": "6c130449-b38f-4ce4-b58a-3fe4bfd03b8a",
        "colab": {}
      },
      "source": [
        "#variables to modify\n",
        "train['PERFORM_CNS.SCORE.DESCRIPTION'].value_counts()"
      ],
      "execution_count": 0,
      "outputs": [
        {
          "output_type": "execute_result",
          "data": {
            "text/plain": [
              "No Bureau History Available                                116950\n",
              "C-Very Low Risk                                             16045\n",
              "A-Very Low Risk                                             14124\n",
              "D-Very Low Risk                                             11358\n",
              "B-Very Low Risk                                              9201\n",
              "M-Very High Risk                                             8776\n",
              "F-Low Risk                                                   8485\n",
              "K-High Risk                                                  8277\n",
              "H-Medium Risk                                                6855\n",
              "E-Low Risk                                                   5821\n",
              "I-Medium Risk                                                5557\n",
              "G-Low Risk                                                   3988\n",
              "Not Scored: Sufficient History Not Available                 3765\n",
              "J-High Risk                                                  3748\n",
              "Not Scored: Not Enough Info available on the customer        3672\n",
              "Not Scored: No Activity seen on the customer (Inactive)      2885\n",
              "Not Scored: No Updates available in last 36 months           1534\n",
              "L-Very High Risk                                             1134\n",
              "Not Scored: Only a Guarantor                                  976\n",
              "Not Scored: More than 50 active Accounts found                  3\n",
              "Name: PERFORM_CNS.SCORE.DESCRIPTION, dtype: int64"
            ]
          },
          "metadata": {
            "tags": []
          },
          "execution_count": 28
        }
      ]
    },
    {
      "cell_type": "code",
      "metadata": {
        "id": "JIIS1270XH-h",
        "colab_type": "code",
        "colab": {}
      },
      "source": [
        "#chi square test\n",
        "cross=pd.crosstab(train['State_ID'],train['loan_default'])"
      ],
      "execution_count": 0,
      "outputs": []
    },
    {
      "cell_type": "code",
      "metadata": {
        "id": "Z64TrdhuXH-l",
        "colab_type": "code",
        "colab": {}
      },
      "source": [
        "from scipy.stats import chi2_contingency"
      ],
      "execution_count": 0,
      "outputs": []
    },
    {
      "cell_type": "code",
      "metadata": {
        "id": "IxZPPlZXXH-o",
        "colab_type": "code",
        "outputId": "d787372f-57b6-432f-bfe6-305ffea91559",
        "colab": {}
      },
      "source": [
        "chi2_contingency(cross)[1]"
      ],
      "execution_count": 0,
      "outputs": [
        {
          "output_type": "execute_result",
          "data": {
            "text/plain": [
              "0.0"
            ]
          },
          "metadata": {
            "tags": []
          },
          "execution_count": 63
        }
      ]
    },
    {
      "cell_type": "code",
      "metadata": {
        "id": "ZeINx2wVXH-t",
        "colab_type": "code",
        "colab": {}
      },
      "source": [
        "train_copy=train.copy(True)"
      ],
      "execution_count": 0,
      "outputs": []
    },
    {
      "cell_type": "code",
      "metadata": {
        "id": "QKRHrHOeXH-y",
        "colab_type": "code",
        "colab": {}
      },
      "source": [
        "train['AVERAGE.ACCT.AGE'][0]"
      ],
      "execution_count": 0,
      "outputs": []
    },
    {
      "cell_type": "code",
      "metadata": {
        "id": "R224qLx2XH-3",
        "colab_type": "code",
        "colab": {}
      },
      "source": [
        "def change1(data,col):\n",
        "    duration=[]\n",
        "    \n",
        "    for i in data[col]:\n",
        "        dur=re.findall('\\d+',i)\n",
        "        duration.append(int(dur[0])*12+int(dur[1]))\n",
        "    \n",
        "    return duration"
      ],
      "execution_count": 0,
      "outputs": []
    },
    {
      "cell_type": "code",
      "metadata": {
        "id": "TI0rRKSFXH--",
        "colab_type": "code",
        "colab": {}
      },
      "source": [
        "train_copy['AVERAGE.ACCT.AGE_num']=change1(train_copy,'AVERAGE.ACCT.AGE')"
      ],
      "execution_count": 0,
      "outputs": []
    },
    {
      "cell_type": "code",
      "metadata": {
        "id": "yQI_uZMtXH_E",
        "colab_type": "code",
        "colab": {}
      },
      "source": [
        "sln.distplot(train_copy[train_copy['loan_default']==0]['AVERAGE.ACCT.AGE_num'])\n",
        "sln.distplot(train_copy[train_copy['loan_default']==1]['AVERAGE.ACCT.AGE_num'])\n",
        "#avg.account.age>180 can be a feature"
      ],
      "execution_count": 0,
      "outputs": []
    },
    {
      "cell_type": "code",
      "metadata": {
        "id": "OkMRW919XH_I",
        "colab_type": "code",
        "colab": {}
      },
      "source": [
        "train[['branch_id','loan_default']].groupby('branch_id').mean()['loan_default'].sort_values(ascending=False)[:5].plot('bar')"
      ],
      "execution_count": 0,
      "outputs": []
    },
    {
      "cell_type": "code",
      "metadata": {
        "id": "jV3yjf4qXH_R",
        "colab_type": "code",
        "colab": {}
      },
      "source": [
        "# will try to explore these branches for now removing all this\n",
        "train_copy=train_copy.drop(['UniqueID','branch_id','supplier_id','manufacturer_id','Current_pincode_ID',\n",
        "                           'Date.of.Birth','DisbursalDate','Employee_code_ID'],axis=1)"
      ],
      "execution_count": 0,
      "outputs": []
    },
    {
      "cell_type": "code",
      "metadata": {
        "id": "NsXqpHpAXH_V",
        "colab_type": "code",
        "colab": {}
      },
      "source": [
        "col=['disbursed_amount','asset_cost',\n",
        "        'ltv','PERFORM_CNS.SCORE','PRI.CURRENT.BALANCE','PRI.SANCTIONED.AMOUNT','PRI.DISBURSED.AMOUNT',\n",
        "        'SEC.CURRENT.BALANCE','SEC.DISBURSED.AMOUNT','PRIMARY.INSTAL.AMT','SEC.INSTAL.AMT']"
      ],
      "execution_count": 0,
      "outputs": []
    },
    {
      "cell_type": "code",
      "metadata": {
        "id": "IunijyGaXH_Y",
        "colab_type": "code",
        "colab": {}
      },
      "source": [
        "#target \n",
        "def calc_smooth_mean(df, by, on, m):\n",
        "    # Compute the global mean\n",
        "    mean = df[on].mean()\n",
        "\n",
        "    # Compute the number of values and the mean of each group\n",
        "    agg = df.groupby(by)[on].agg(['count', 'mean'])\n",
        "    counts = agg['count']\n",
        "    means = agg['mean']\n",
        "\n",
        "    # Compute the \"smoothed\" means\n",
        "    smooth = (counts * means + m * mean) / (counts + m)\n",
        "\n",
        "    # Replace each value by the according smoothed mean\n",
        "    return df[by].map(smooth)\n"
      ],
      "execution_count": 0,
      "outputs": []
    },
    {
      "cell_type": "code",
      "metadata": {
        "id": "HgfO6URmXH_c",
        "colab_type": "code",
        "outputId": "612df6ce-f8c3-46fb-bf74-31af1ada6355",
        "colab": {}
      },
      "source": [
        "te.fit_transform(train[tar_en],train['loan_default'])"
      ],
      "execution_count": 0,
      "outputs": [
        {
          "output_type": "execute_result",
          "data": {
            "text/html": [
              "<div>\n",
              "<style scoped>\n",
              "    .dataframe tbody tr th:only-of-type {\n",
              "        vertical-align: middle;\n",
              "    }\n",
              "\n",
              "    .dataframe tbody tr th {\n",
              "        vertical-align: top;\n",
              "    }\n",
              "\n",
              "    .dataframe thead th {\n",
              "        text-align: right;\n",
              "    }\n",
              "</style>\n",
              "<table border=\"1\" class=\"dataframe\">\n",
              "  <thead>\n",
              "    <tr style=\"text-align: right;\">\n",
              "      <th></th>\n",
              "      <th>State_ID</th>\n",
              "      <th>PERFORM_CNS.SCORE.DESCRIPTION</th>\n",
              "    </tr>\n",
              "  </thead>\n",
              "  <tbody>\n",
              "    <tr>\n",
              "      <th>0</th>\n",
              "      <td>6</td>\n",
              "      <td>0.231313</td>\n",
              "    </tr>\n",
              "    <tr>\n",
              "      <th>1</th>\n",
              "      <td>6</td>\n",
              "      <td>0.272629</td>\n",
              "    </tr>\n",
              "    <tr>\n",
              "      <th>2</th>\n",
              "      <td>6</td>\n",
              "      <td>0.231313</td>\n",
              "    </tr>\n",
              "    <tr>\n",
              "      <th>3</th>\n",
              "      <td>6</td>\n",
              "      <td>0.280423</td>\n",
              "    </tr>\n",
              "    <tr>\n",
              "      <th>4</th>\n",
              "      <td>6</td>\n",
              "      <td>0.231313</td>\n",
              "    </tr>\n",
              "    <tr>\n",
              "      <th>5</th>\n",
              "      <td>6</td>\n",
              "      <td>0.165746</td>\n",
              "    </tr>\n",
              "    <tr>\n",
              "      <th>6</th>\n",
              "      <td>6</td>\n",
              "      <td>0.231313</td>\n",
              "    </tr>\n",
              "    <tr>\n",
              "      <th>7</th>\n",
              "      <td>6</td>\n",
              "      <td>0.209695</td>\n",
              "    </tr>\n",
              "    <tr>\n",
              "      <th>8</th>\n",
              "      <td>6</td>\n",
              "      <td>0.149586</td>\n",
              "    </tr>\n",
              "    <tr>\n",
              "      <th>9</th>\n",
              "      <td>6</td>\n",
              "      <td>0.165746</td>\n",
              "    </tr>\n",
              "    <tr>\n",
              "      <th>10</th>\n",
              "      <td>6</td>\n",
              "      <td>0.304581</td>\n",
              "    </tr>\n",
              "    <tr>\n",
              "      <th>11</th>\n",
              "      <td>6</td>\n",
              "      <td>0.131290</td>\n",
              "    </tr>\n",
              "    <tr>\n",
              "      <th>12</th>\n",
              "      <td>6</td>\n",
              "      <td>0.304581</td>\n",
              "    </tr>\n",
              "    <tr>\n",
              "      <th>13</th>\n",
              "      <td>6</td>\n",
              "      <td>0.172639</td>\n",
              "    </tr>\n",
              "    <tr>\n",
              "      <th>14</th>\n",
              "      <td>6</td>\n",
              "      <td>0.304581</td>\n",
              "    </tr>\n",
              "    <tr>\n",
              "      <th>15</th>\n",
              "      <td>6</td>\n",
              "      <td>0.209695</td>\n",
              "    </tr>\n",
              "    <tr>\n",
              "      <th>16</th>\n",
              "      <td>6</td>\n",
              "      <td>0.304581</td>\n",
              "    </tr>\n",
              "    <tr>\n",
              "      <th>17</th>\n",
              "      <td>6</td>\n",
              "      <td>0.171792</td>\n",
              "    </tr>\n",
              "    <tr>\n",
              "      <th>18</th>\n",
              "      <td>6</td>\n",
              "      <td>0.272629</td>\n",
              "    </tr>\n",
              "    <tr>\n",
              "      <th>19</th>\n",
              "      <td>6</td>\n",
              "      <td>0.241867</td>\n",
              "    </tr>\n",
              "    <tr>\n",
              "      <th>20</th>\n",
              "      <td>6</td>\n",
              "      <td>0.172639</td>\n",
              "    </tr>\n",
              "    <tr>\n",
              "      <th>21</th>\n",
              "      <td>6</td>\n",
              "      <td>0.131290</td>\n",
              "    </tr>\n",
              "    <tr>\n",
              "      <th>22</th>\n",
              "      <td>6</td>\n",
              "      <td>0.231313</td>\n",
              "    </tr>\n",
              "    <tr>\n",
              "      <th>23</th>\n",
              "      <td>6</td>\n",
              "      <td>0.172639</td>\n",
              "    </tr>\n",
              "    <tr>\n",
              "      <th>24</th>\n",
              "      <td>6</td>\n",
              "      <td>0.231313</td>\n",
              "    </tr>\n",
              "    <tr>\n",
              "      <th>25</th>\n",
              "      <td>6</td>\n",
              "      <td>0.231313</td>\n",
              "    </tr>\n",
              "    <tr>\n",
              "      <th>26</th>\n",
              "      <td>6</td>\n",
              "      <td>0.231313</td>\n",
              "    </tr>\n",
              "    <tr>\n",
              "      <th>27</th>\n",
              "      <td>6</td>\n",
              "      <td>0.231313</td>\n",
              "    </tr>\n",
              "    <tr>\n",
              "      <th>28</th>\n",
              "      <td>6</td>\n",
              "      <td>0.241867</td>\n",
              "    </tr>\n",
              "    <tr>\n",
              "      <th>29</th>\n",
              "      <td>6</td>\n",
              "      <td>0.149586</td>\n",
              "    </tr>\n",
              "    <tr>\n",
              "      <th>...</th>\n",
              "      <td>...</td>\n",
              "      <td>...</td>\n",
              "    </tr>\n",
              "    <tr>\n",
              "      <th>233124</th>\n",
              "      <td>15</td>\n",
              "      <td>0.231313</td>\n",
              "    </tr>\n",
              "    <tr>\n",
              "      <th>233125</th>\n",
              "      <td>15</td>\n",
              "      <td>0.172639</td>\n",
              "    </tr>\n",
              "    <tr>\n",
              "      <th>233126</th>\n",
              "      <td>15</td>\n",
              "      <td>0.231313</td>\n",
              "    </tr>\n",
              "    <tr>\n",
              "      <th>233127</th>\n",
              "      <td>15</td>\n",
              "      <td>0.186211</td>\n",
              "    </tr>\n",
              "    <tr>\n",
              "      <th>233128</th>\n",
              "      <td>15</td>\n",
              "      <td>0.209695</td>\n",
              "    </tr>\n",
              "    <tr>\n",
              "      <th>233129</th>\n",
              "      <td>15</td>\n",
              "      <td>0.272629</td>\n",
              "    </tr>\n",
              "    <tr>\n",
              "      <th>233130</th>\n",
              "      <td>15</td>\n",
              "      <td>0.165746</td>\n",
              "    </tr>\n",
              "    <tr>\n",
              "      <th>233131</th>\n",
              "      <td>15</td>\n",
              "      <td>0.149586</td>\n",
              "    </tr>\n",
              "    <tr>\n",
              "      <th>233132</th>\n",
              "      <td>15</td>\n",
              "      <td>0.172639</td>\n",
              "    </tr>\n",
              "    <tr>\n",
              "      <th>233133</th>\n",
              "      <td>6</td>\n",
              "      <td>0.131290</td>\n",
              "    </tr>\n",
              "    <tr>\n",
              "      <th>233134</th>\n",
              "      <td>6</td>\n",
              "      <td>0.231313</td>\n",
              "    </tr>\n",
              "    <tr>\n",
              "      <th>233135</th>\n",
              "      <td>6</td>\n",
              "      <td>0.231313</td>\n",
              "    </tr>\n",
              "    <tr>\n",
              "      <th>233136</th>\n",
              "      <td>6</td>\n",
              "      <td>0.131290</td>\n",
              "    </tr>\n",
              "    <tr>\n",
              "      <th>233137</th>\n",
              "      <td>6</td>\n",
              "      <td>0.252401</td>\n",
              "    </tr>\n",
              "    <tr>\n",
              "      <th>233138</th>\n",
              "      <td>6</td>\n",
              "      <td>0.231313</td>\n",
              "    </tr>\n",
              "    <tr>\n",
              "      <th>233139</th>\n",
              "      <td>6</td>\n",
              "      <td>0.165746</td>\n",
              "    </tr>\n",
              "    <tr>\n",
              "      <th>233140</th>\n",
              "      <td>6</td>\n",
              "      <td>0.165746</td>\n",
              "    </tr>\n",
              "    <tr>\n",
              "      <th>233141</th>\n",
              "      <td>6</td>\n",
              "      <td>0.165746</td>\n",
              "    </tr>\n",
              "    <tr>\n",
              "      <th>233142</th>\n",
              "      <td>6</td>\n",
              "      <td>0.172639</td>\n",
              "    </tr>\n",
              "    <tr>\n",
              "      <th>233143</th>\n",
              "      <td>6</td>\n",
              "      <td>0.165746</td>\n",
              "    </tr>\n",
              "    <tr>\n",
              "      <th>233144</th>\n",
              "      <td>6</td>\n",
              "      <td>0.231313</td>\n",
              "    </tr>\n",
              "    <tr>\n",
              "      <th>233145</th>\n",
              "      <td>6</td>\n",
              "      <td>0.171792</td>\n",
              "    </tr>\n",
              "    <tr>\n",
              "      <th>233146</th>\n",
              "      <td>6</td>\n",
              "      <td>0.172639</td>\n",
              "    </tr>\n",
              "    <tr>\n",
              "      <th>233147</th>\n",
              "      <td>6</td>\n",
              "      <td>0.172639</td>\n",
              "    </tr>\n",
              "    <tr>\n",
              "      <th>233148</th>\n",
              "      <td>6</td>\n",
              "      <td>0.231313</td>\n",
              "    </tr>\n",
              "    <tr>\n",
              "      <th>233149</th>\n",
              "      <td>6</td>\n",
              "      <td>0.149586</td>\n",
              "    </tr>\n",
              "    <tr>\n",
              "      <th>233150</th>\n",
              "      <td>6</td>\n",
              "      <td>0.165746</td>\n",
              "    </tr>\n",
              "    <tr>\n",
              "      <th>233151</th>\n",
              "      <td>4</td>\n",
              "      <td>0.231313</td>\n",
              "    </tr>\n",
              "    <tr>\n",
              "      <th>233152</th>\n",
              "      <td>4</td>\n",
              "      <td>0.231313</td>\n",
              "    </tr>\n",
              "    <tr>\n",
              "      <th>233153</th>\n",
              "      <td>4</td>\n",
              "      <td>0.231313</td>\n",
              "    </tr>\n",
              "  </tbody>\n",
              "</table>\n",
              "<p>233154 rows × 2 columns</p>\n",
              "</div>"
            ],
            "text/plain": [
              "        State_ID  PERFORM_CNS.SCORE.DESCRIPTION\n",
              "0              6                       0.231313\n",
              "1              6                       0.272629\n",
              "2              6                       0.231313\n",
              "3              6                       0.280423\n",
              "4              6                       0.231313\n",
              "5              6                       0.165746\n",
              "6              6                       0.231313\n",
              "7              6                       0.209695\n",
              "8              6                       0.149586\n",
              "9              6                       0.165746\n",
              "10             6                       0.304581\n",
              "11             6                       0.131290\n",
              "12             6                       0.304581\n",
              "13             6                       0.172639\n",
              "14             6                       0.304581\n",
              "15             6                       0.209695\n",
              "16             6                       0.304581\n",
              "17             6                       0.171792\n",
              "18             6                       0.272629\n",
              "19             6                       0.241867\n",
              "20             6                       0.172639\n",
              "21             6                       0.131290\n",
              "22             6                       0.231313\n",
              "23             6                       0.172639\n",
              "24             6                       0.231313\n",
              "25             6                       0.231313\n",
              "26             6                       0.231313\n",
              "27             6                       0.231313\n",
              "28             6                       0.241867\n",
              "29             6                       0.149586\n",
              "...          ...                            ...\n",
              "233124        15                       0.231313\n",
              "233125        15                       0.172639\n",
              "233126        15                       0.231313\n",
              "233127        15                       0.186211\n",
              "233128        15                       0.209695\n",
              "233129        15                       0.272629\n",
              "233130        15                       0.165746\n",
              "233131        15                       0.149586\n",
              "233132        15                       0.172639\n",
              "233133         6                       0.131290\n",
              "233134         6                       0.231313\n",
              "233135         6                       0.231313\n",
              "233136         6                       0.131290\n",
              "233137         6                       0.252401\n",
              "233138         6                       0.231313\n",
              "233139         6                       0.165746\n",
              "233140         6                       0.165746\n",
              "233141         6                       0.165746\n",
              "233142         6                       0.172639\n",
              "233143         6                       0.165746\n",
              "233144         6                       0.231313\n",
              "233145         6                       0.171792\n",
              "233146         6                       0.172639\n",
              "233147         6                       0.172639\n",
              "233148         6                       0.231313\n",
              "233149         6                       0.149586\n",
              "233150         6                       0.165746\n",
              "233151         4                       0.231313\n",
              "233152         4                       0.231313\n",
              "233153         4                       0.231313\n",
              "\n",
              "[233154 rows x 2 columns]"
            ]
          },
          "metadata": {
            "tags": []
          },
          "execution_count": 65
        }
      ]
    },
    {
      "cell_type": "code",
      "metadata": {
        "id": "ArfutBlAXH_g",
        "colab_type": "code",
        "colab": {}
      },
      "source": [
        "\n",
        "def convert(df):\n",
        "    df=df.drop(['UniqueID','branch_id','supplier_id','manufacturer_id','Current_pincode_ID',\n",
        "                           'Date.of.Birth','DisbursalDate','Employee_code_ID'],axis=1)\n",
        "    #calling change 1\n",
        "    \n",
        "    \n",
        "    \n",
        "    df['AVERAGE.ACCT.AGE_num']=change1(df,'AVERAGE.ACCT.AGE')\n",
        "    \n",
        "    duration=[]\n",
        "    df['CREDIT.HISTORY.LENGTH_num']=change1(df,'CREDIT.HISTORY.LENGTH')\n",
        "    df=df.drop(['AVERAGE.ACCT.AGE','CREDIT.HISTORY.LENGTH'],axis=1)\n",
        "    #target encoding\n",
        "    te=TargetEncoder()\n",
        "    te.fit(df[tar_en],df['loan_default'])\n",
        "    en=te.fit_transform(df[tar_en],df['loan_default'])\n",
        "    \n",
        "    \n",
        "    sc=StandardScaler()\n",
        "    #print('hello')\n",
        "    scaled_df=pd.DataFrame(sc.fit_transform(df[['disbursed_amount','asset_cost',\n",
        "                                               'ltv','PERFORM_CNS.SCORE','PRI.CURRENT.BALANCE',\n",
        "                                               'PRI.SANCTIONED.AMOUNT','PRI.DISBURSED.AMOUNT',\n",
        "                                               'SEC.CURRENT.BALANCE','SEC.DISBURSED.AMOUNT',\n",
        "                                               'PRIMARY.INSTAL.AMT','SEC.INSTAL.AMT']]),columns=col)\n",
        "    df=df.drop(col,axis=1)\n",
        "    df=df.drop(['State_ID','PERFORM_CNS.SCORE.DESCRIPTION'],axis=1)\n",
        "   \n",
        "    #create dummyasset_cost\n",
        "    dummy=pd.get_dummies(df['Employment.Type'],drop_first=True)\n",
        "    comb=pd.concat([df,en,dummy,scaled_df],axis=1)\n",
        "    #print(comb.head(1))\n",
        "    comb=comb.drop(['Employment.Type'],axis=1)\n",
        "    \n",
        "    \n",
        "    print('conversion done')\n",
        "    return comb,te"
      ],
      "execution_count": 0,
      "outputs": []
    },
    {
      "cell_type": "code",
      "metadata": {
        "scrolled": true,
        "id": "E9akSBeRXH_k",
        "colab_type": "code",
        "outputId": "7f0bdb47-8713-4c0a-e136-5630b8c4f846",
        "colab": {
          "base_uri": "https://localhost:8080/",
          "height": 122
        }
      },
      "source": [
        "final,tte=convert(train_copy)"
      ],
      "execution_count": 0,
      "outputs": [
        {
          "output_type": "stream",
          "text": [
            "/usr/local/lib/python3.6/dist-packages/sklearn/preprocessing/data.py:645: DataConversionWarning: Data with input dtype int64, float64 were all converted to float64 by StandardScaler.\n",
            "  return self.partial_fit(X, y)\n",
            "/usr/local/lib/python3.6/dist-packages/sklearn/base.py:464: DataConversionWarning: Data with input dtype int64, float64 were all converted to float64 by StandardScaler.\n",
            "  return self.fit(X, **fit_params).transform(X)\n"
          ],
          "name": "stderr"
        },
        {
          "output_type": "stream",
          "text": [
            "conversion done\n"
          ],
          "name": "stdout"
        }
      ]
    },
    {
      "cell_type": "code",
      "metadata": {
        "id": "T1vhue3KXH_n",
        "colab_type": "code",
        "colab": {}
      },
      "source": [
        "tar_en=['State_ID','PERFORM_CNS.SCORE.DESCRIPTION']"
      ],
      "execution_count": 0,
      "outputs": []
    },
    {
      "cell_type": "code",
      "metadata": {
        "id": "A5RiDP0UXH_r",
        "colab_type": "code",
        "outputId": "0f92ec16-bf79-440e-98f7-489864638877",
        "colab": {}
      },
      "source": [
        "final.head()"
      ],
      "execution_count": 0,
      "outputs": [
        {
          "output_type": "execute_result",
          "data": {
            "text/html": [
              "<div>\n",
              "<style scoped>\n",
              "    .dataframe tbody tr th:only-of-type {\n",
              "        vertical-align: middle;\n",
              "    }\n",
              "\n",
              "    .dataframe tbody tr th {\n",
              "        vertical-align: top;\n",
              "    }\n",
              "\n",
              "    .dataframe thead th {\n",
              "        text-align: right;\n",
              "    }\n",
              "</style>\n",
              "<table border=\"1\" class=\"dataframe\">\n",
              "  <thead>\n",
              "    <tr style=\"text-align: right;\">\n",
              "      <th></th>\n",
              "      <th>MobileNo_Avl_Flag</th>\n",
              "      <th>Aadhar_flag</th>\n",
              "      <th>PAN_flag</th>\n",
              "      <th>VoterID_flag</th>\n",
              "      <th>Driving_flag</th>\n",
              "      <th>Passport_flag</th>\n",
              "      <th>PRI.NO.OF.ACCTS</th>\n",
              "      <th>PRI.ACTIVE.ACCTS</th>\n",
              "      <th>PRI.OVERDUE.ACCTS</th>\n",
              "      <th>SEC.NO.OF.ACCTS</th>\n",
              "      <th>SEC.ACTIVE.ACCTS</th>\n",
              "      <th>SEC.OVERDUE.ACCTS</th>\n",
              "      <th>SEC.SANCTIONED.AMOUNT</th>\n",
              "      <th>NEW.ACCTS.IN.LAST.SIX.MONTHS</th>\n",
              "      <th>DELINQUENT.ACCTS.IN.LAST.SIX.MONTHS</th>\n",
              "      <th>NO.OF_INQUIRIES</th>\n",
              "      <th>loan_default</th>\n",
              "      <th>AVERAGE.ACCT.AGE_num</th>\n",
              "      <th>CREDIT.HISTORY.LENGTH_num</th>\n",
              "      <th>State_ID</th>\n",
              "      <th>PERFORM_CNS.SCORE.DESCRIPTION</th>\n",
              "      <th>Self employed</th>\n",
              "      <th>disbursed_amount</th>\n",
              "      <th>asset_cost</th>\n",
              "      <th>ltv</th>\n",
              "      <th>PERFORM_CNS.SCORE</th>\n",
              "      <th>PRI.CURRENT.BALANCE</th>\n",
              "      <th>PRI.SANCTIONED.AMOUNT</th>\n",
              "      <th>PRI.DISBURSED.AMOUNT</th>\n",
              "      <th>SEC.CURRENT.BALANCE</th>\n",
              "      <th>SEC.DISBURSED.AMOUNT</th>\n",
              "      <th>PRIMARY.INSTAL.AMT</th>\n",
              "      <th>SEC.INSTAL.AMT</th>\n",
              "    </tr>\n",
              "  </thead>\n",
              "  <tbody>\n",
              "    <tr>\n",
              "      <th>0</th>\n",
              "      <td>1</td>\n",
              "      <td>1</td>\n",
              "      <td>0</td>\n",
              "      <td>0</td>\n",
              "      <td>0</td>\n",
              "      <td>0</td>\n",
              "      <td>0</td>\n",
              "      <td>0</td>\n",
              "      <td>0</td>\n",
              "      <td>0</td>\n",
              "      <td>0</td>\n",
              "      <td>0</td>\n",
              "      <td>0</td>\n",
              "      <td>0</td>\n",
              "      <td>0</td>\n",
              "      <td>0</td>\n",
              "      <td>0</td>\n",
              "      <td>0</td>\n",
              "      <td>0</td>\n",
              "      <td>6</td>\n",
              "      <td>0.231313</td>\n",
              "      <td>0</td>\n",
              "      <td>-0.291335</td>\n",
              "      <td>-0.921895</td>\n",
              "      <td>1.292133</td>\n",
              "      <td>-0.855453</td>\n",
              "      <td>-0.176064</td>\n",
              "      <td>-0.092010</td>\n",
              "      <td>-0.091711</td>\n",
              "      <td>-0.031884</td>\n",
              "      <td>-0.039323</td>\n",
              "      <td>-0.086581</td>\n",
              "      <td>-0.020784</td>\n",
              "    </tr>\n",
              "    <tr>\n",
              "      <th>1</th>\n",
              "      <td>1</td>\n",
              "      <td>1</td>\n",
              "      <td>0</td>\n",
              "      <td>0</td>\n",
              "      <td>0</td>\n",
              "      <td>0</td>\n",
              "      <td>1</td>\n",
              "      <td>1</td>\n",
              "      <td>1</td>\n",
              "      <td>0</td>\n",
              "      <td>0</td>\n",
              "      <td>0</td>\n",
              "      <td>0</td>\n",
              "      <td>0</td>\n",
              "      <td>1</td>\n",
              "      <td>0</td>\n",
              "      <td>1</td>\n",
              "      <td>23</td>\n",
              "      <td>23</td>\n",
              "      <td>6</td>\n",
              "      <td>0.272629</td>\n",
              "      <td>1</td>\n",
              "      <td>-0.555997</td>\n",
              "      <td>-0.544482</td>\n",
              "      <td>-0.132372</td>\n",
              "      <td>0.911822</td>\n",
              "      <td>-0.146773</td>\n",
              "      <td>-0.070871</td>\n",
              "      <td>-0.070599</td>\n",
              "      <td>-0.031884</td>\n",
              "      <td>-0.039323</td>\n",
              "      <td>-0.073427</td>\n",
              "      <td>-0.020784</td>\n",
              "    </tr>\n",
              "    <tr>\n",
              "      <th>2</th>\n",
              "      <td>1</td>\n",
              "      <td>1</td>\n",
              "      <td>0</td>\n",
              "      <td>0</td>\n",
              "      <td>0</td>\n",
              "      <td>0</td>\n",
              "      <td>0</td>\n",
              "      <td>0</td>\n",
              "      <td>0</td>\n",
              "      <td>0</td>\n",
              "      <td>0</td>\n",
              "      <td>0</td>\n",
              "      <td>0</td>\n",
              "      <td>0</td>\n",
              "      <td>0</td>\n",
              "      <td>0</td>\n",
              "      <td>0</td>\n",
              "      <td>0</td>\n",
              "      <td>0</td>\n",
              "      <td>6</td>\n",
              "      <td>0.231313</td>\n",
              "      <td>1</td>\n",
              "      <td>-0.083183</td>\n",
              "      <td>-0.765651</td>\n",
              "      <td>1.299116</td>\n",
              "      <td>-0.855453</td>\n",
              "      <td>-0.176064</td>\n",
              "      <td>-0.092010</td>\n",
              "      <td>-0.091711</td>\n",
              "      <td>-0.031884</td>\n",
              "      <td>-0.039323</td>\n",
              "      <td>-0.086581</td>\n",
              "      <td>-0.020784</td>\n",
              "    </tr>\n",
              "    <tr>\n",
              "      <th>3</th>\n",
              "      <td>1</td>\n",
              "      <td>1</td>\n",
              "      <td>0</td>\n",
              "      <td>0</td>\n",
              "      <td>0</td>\n",
              "      <td>0</td>\n",
              "      <td>3</td>\n",
              "      <td>0</td>\n",
              "      <td>0</td>\n",
              "      <td>0</td>\n",
              "      <td>0</td>\n",
              "      <td>0</td>\n",
              "      <td>0</td>\n",
              "      <td>0</td>\n",
              "      <td>0</td>\n",
              "      <td>1</td>\n",
              "      <td>1</td>\n",
              "      <td>8</td>\n",
              "      <td>15</td>\n",
              "      <td>6</td>\n",
              "      <td>0.280423</td>\n",
              "      <td>1</td>\n",
              "      <td>0.243307</td>\n",
              "      <td>-0.514764</td>\n",
              "      <td>1.198738</td>\n",
              "      <td>0.045917</td>\n",
              "      <td>-0.176064</td>\n",
              "      <td>-0.092010</td>\n",
              "      <td>-0.091711</td>\n",
              "      <td>-0.031884</td>\n",
              "      <td>-0.039323</td>\n",
              "      <td>-0.086376</td>\n",
              "      <td>-0.020784</td>\n",
              "    </tr>\n",
              "    <tr>\n",
              "      <th>4</th>\n",
              "      <td>1</td>\n",
              "      <td>1</td>\n",
              "      <td>0</td>\n",
              "      <td>0</td>\n",
              "      <td>0</td>\n",
              "      <td>0</td>\n",
              "      <td>0</td>\n",
              "      <td>0</td>\n",
              "      <td>0</td>\n",
              "      <td>0</td>\n",
              "      <td>0</td>\n",
              "      <td>0</td>\n",
              "      <td>0</td>\n",
              "      <td>0</td>\n",
              "      <td>0</td>\n",
              "      <td>1</td>\n",
              "      <td>1</td>\n",
              "      <td>0</td>\n",
              "      <td>0</td>\n",
              "      <td>6</td>\n",
              "      <td>0.231313</td>\n",
              "      <td>1</td>\n",
              "      <td>-0.152567</td>\n",
              "      <td>-0.821604</td>\n",
              "      <td>1.190882</td>\n",
              "      <td>-0.855453</td>\n",
              "      <td>-0.176064</td>\n",
              "      <td>-0.092010</td>\n",
              "      <td>-0.091711</td>\n",
              "      <td>-0.031884</td>\n",
              "      <td>-0.039323</td>\n",
              "      <td>-0.086581</td>\n",
              "      <td>-0.020784</td>\n",
              "    </tr>\n",
              "  </tbody>\n",
              "</table>\n",
              "</div>"
            ],
            "text/plain": [
              "   MobileNo_Avl_Flag  Aadhar_flag  PAN_flag  VoterID_flag  Driving_flag  \\\n",
              "0                  1            1         0             0             0   \n",
              "1                  1            1         0             0             0   \n",
              "2                  1            1         0             0             0   \n",
              "3                  1            1         0             0             0   \n",
              "4                  1            1         0             0             0   \n",
              "\n",
              "   Passport_flag  PRI.NO.OF.ACCTS  PRI.ACTIVE.ACCTS  PRI.OVERDUE.ACCTS  \\\n",
              "0              0                0                 0                  0   \n",
              "1              0                1                 1                  1   \n",
              "2              0                0                 0                  0   \n",
              "3              0                3                 0                  0   \n",
              "4              0                0                 0                  0   \n",
              "\n",
              "   SEC.NO.OF.ACCTS  SEC.ACTIVE.ACCTS  SEC.OVERDUE.ACCTS  \\\n",
              "0                0                 0                  0   \n",
              "1                0                 0                  0   \n",
              "2                0                 0                  0   \n",
              "3                0                 0                  0   \n",
              "4                0                 0                  0   \n",
              "\n",
              "   SEC.SANCTIONED.AMOUNT  NEW.ACCTS.IN.LAST.SIX.MONTHS  \\\n",
              "0                      0                             0   \n",
              "1                      0                             0   \n",
              "2                      0                             0   \n",
              "3                      0                             0   \n",
              "4                      0                             0   \n",
              "\n",
              "   DELINQUENT.ACCTS.IN.LAST.SIX.MONTHS  NO.OF_INQUIRIES  loan_default  \\\n",
              "0                                    0                0             0   \n",
              "1                                    1                0             1   \n",
              "2                                    0                0             0   \n",
              "3                                    0                1             1   \n",
              "4                                    0                1             1   \n",
              "\n",
              "   AVERAGE.ACCT.AGE_num  CREDIT.HISTORY.LENGTH_num  State_ID  \\\n",
              "0                     0                          0         6   \n",
              "1                    23                         23         6   \n",
              "2                     0                          0         6   \n",
              "3                     8                         15         6   \n",
              "4                     0                          0         6   \n",
              "\n",
              "   PERFORM_CNS.SCORE.DESCRIPTION  Self employed  disbursed_amount  asset_cost  \\\n",
              "0                       0.231313              0         -0.291335   -0.921895   \n",
              "1                       0.272629              1         -0.555997   -0.544482   \n",
              "2                       0.231313              1         -0.083183   -0.765651   \n",
              "3                       0.280423              1          0.243307   -0.514764   \n",
              "4                       0.231313              1         -0.152567   -0.821604   \n",
              "\n",
              "        ltv  PERFORM_CNS.SCORE  PRI.CURRENT.BALANCE  PRI.SANCTIONED.AMOUNT  \\\n",
              "0  1.292133          -0.855453            -0.176064              -0.092010   \n",
              "1 -0.132372           0.911822            -0.146773              -0.070871   \n",
              "2  1.299116          -0.855453            -0.176064              -0.092010   \n",
              "3  1.198738           0.045917            -0.176064              -0.092010   \n",
              "4  1.190882          -0.855453            -0.176064              -0.092010   \n",
              "\n",
              "   PRI.DISBURSED.AMOUNT  SEC.CURRENT.BALANCE  SEC.DISBURSED.AMOUNT  \\\n",
              "0             -0.091711            -0.031884             -0.039323   \n",
              "1             -0.070599            -0.031884             -0.039323   \n",
              "2             -0.091711            -0.031884             -0.039323   \n",
              "3             -0.091711            -0.031884             -0.039323   \n",
              "4             -0.091711            -0.031884             -0.039323   \n",
              "\n",
              "   PRIMARY.INSTAL.AMT  SEC.INSTAL.AMT  \n",
              "0           -0.086581       -0.020784  \n",
              "1           -0.073427       -0.020784  \n",
              "2           -0.086581       -0.020784  \n",
              "3           -0.086376       -0.020784  \n",
              "4           -0.086581       -0.020784  "
            ]
          },
          "metadata": {
            "tags": []
          },
          "execution_count": 145
        }
      ]
    },
    {
      "cell_type": "code",
      "metadata": {
        "id": "vigHCIQGXH_v",
        "colab_type": "code",
        "outputId": "039ff6b4-75c5-4ffd-bd2b-5954dc00cab6",
        "colab": {}
      },
      "source": [
        "final.shape"
      ],
      "execution_count": 0,
      "outputs": [
        {
          "output_type": "execute_result",
          "data": {
            "text/plain": [
              "(233154, 33)"
            ]
          },
          "metadata": {
            "tags": []
          },
          "execution_count": 146
        }
      ]
    },
    {
      "cell_type": "markdown",
      "metadata": {
        "id": "0ckcDFO5XH_z",
        "colab_type": "text"
      },
      "source": [
        "## feature selection"
      ]
    },
    {
      "cell_type": "code",
      "metadata": {
        "id": "WFvEpyjSXH_3",
        "colab_type": "code",
        "colab": {}
      },
      "source": [
        "#lets try feature selection\n",
        "from sklearn.feature_selection import SelectKBest\n",
        "from sklearn.feature_selection import f_classif"
      ],
      "execution_count": 0,
      "outputs": []
    },
    {
      "cell_type": "code",
      "metadata": {
        "id": "oJ-meEq2XH_7",
        "colab_type": "code",
        "colab": {}
      },
      "source": [
        "sl=SelectKBest(f_classif,k=15)"
      ],
      "execution_count": 0,
      "outputs": []
    },
    {
      "cell_type": "code",
      "metadata": {
        "id": "8x11-T3aXH_9",
        "colab_type": "code",
        "outputId": "959d93c5-d267-4695-846f-627ea6ff6d54",
        "colab": {
          "base_uri": "https://localhost:8080/",
          "height": 122
        }
      },
      "source": [
        "sl.fit(final.drop('loan_default',axis=1), final['loan_default'])"
      ],
      "execution_count": 0,
      "outputs": [
        {
          "output_type": "stream",
          "text": [
            "/usr/local/lib/python3.6/dist-packages/sklearn/feature_selection/univariate_selection.py:114: UserWarning: Features [0] are constant.\n",
            "  UserWarning)\n",
            "/usr/local/lib/python3.6/dist-packages/sklearn/feature_selection/univariate_selection.py:115: RuntimeWarning: invalid value encountered in true_divide\n",
            "  f = msb / msw\n"
          ],
          "name": "stderr"
        },
        {
          "output_type": "execute_result",
          "data": {
            "text/plain": [
              "SelectKBest(k=15, score_func=<function f_classif at 0x7f83242ce048>)"
            ]
          },
          "metadata": {
            "tags": []
          },
          "execution_count": 14
        }
      ]
    },
    {
      "cell_type": "code",
      "metadata": {
        "id": "yl1zAnZ8XIAB",
        "colab_type": "code",
        "outputId": "8cb33729-185a-439d-a1ed-89a177836ef2",
        "colab": {
          "base_uri": "https://localhost:8080/",
          "height": 105
        }
      },
      "source": [
        "X_new = pd.DataFrame(SelectKBest(f_classif,k=15).fit_transform(final.drop('loan_default',axis=1), final['loan_default']))"
      ],
      "execution_count": 0,
      "outputs": [
        {
          "output_type": "stream",
          "text": [
            "/usr/local/lib/python3.6/dist-packages/sklearn/feature_selection/univariate_selection.py:114: UserWarning: Features [0] are constant.\n",
            "  UserWarning)\n",
            "/usr/local/lib/python3.6/dist-packages/sklearn/feature_selection/univariate_selection.py:115: RuntimeWarning: invalid value encountered in true_divide\n",
            "  f = msb / msw\n"
          ],
          "name": "stderr"
        }
      ]
    },
    {
      "cell_type": "markdown",
      "metadata": {
        "id": "zgDpZFLtXIAE",
        "colab_type": "text"
      },
      "source": [
        "## TRAINING"
      ]
    },
    {
      "cell_type": "code",
      "metadata": {
        "id": "RO5xQs_5XIAE",
        "colab_type": "code",
        "outputId": "ae7a6c6d-f887-414e-eed6-a1ab8bcf218f",
        "colab": {}
      },
      "source": [
        "X_new.head()"
      ],
      "execution_count": 0,
      "outputs": [
        {
          "output_type": "execute_result",
          "data": {
            "text/html": [
              "<div>\n",
              "<style scoped>\n",
              "    .dataframe tbody tr th:only-of-type {\n",
              "        vertical-align: middle;\n",
              "    }\n",
              "\n",
              "    .dataframe tbody tr th {\n",
              "        vertical-align: top;\n",
              "    }\n",
              "\n",
              "    .dataframe thead th {\n",
              "        text-align: right;\n",
              "    }\n",
              "</style>\n",
              "<table border=\"1\" class=\"dataframe\">\n",
              "  <thead>\n",
              "    <tr style=\"text-align: right;\">\n",
              "      <th></th>\n",
              "      <th>0</th>\n",
              "      <th>1</th>\n",
              "      <th>2</th>\n",
              "      <th>3</th>\n",
              "      <th>4</th>\n",
              "      <th>5</th>\n",
              "      <th>6</th>\n",
              "      <th>7</th>\n",
              "      <th>8</th>\n",
              "      <th>9</th>\n",
              "      <th>10</th>\n",
              "      <th>11</th>\n",
              "      <th>12</th>\n",
              "      <th>13</th>\n",
              "      <th>14</th>\n",
              "    </tr>\n",
              "  </thead>\n",
              "  <tbody>\n",
              "    <tr>\n",
              "      <th>0</th>\n",
              "      <td>1.0</td>\n",
              "      <td>1.0</td>\n",
              "      <td>0.0</td>\n",
              "      <td>6.0</td>\n",
              "      <td>0.231313</td>\n",
              "      <td>0.0</td>\n",
              "      <td>-0.291335</td>\n",
              "      <td>-0.921895</td>\n",
              "      <td>1.292133</td>\n",
              "      <td>-0.855453</td>\n",
              "      <td>-0.176064</td>\n",
              "      <td>-0.092010</td>\n",
              "      <td>-0.091711</td>\n",
              "      <td>-0.039323</td>\n",
              "      <td>-0.086581</td>\n",
              "    </tr>\n",
              "    <tr>\n",
              "      <th>1</th>\n",
              "      <td>1.0</td>\n",
              "      <td>1.0</td>\n",
              "      <td>0.0</td>\n",
              "      <td>6.0</td>\n",
              "      <td>0.272629</td>\n",
              "      <td>1.0</td>\n",
              "      <td>-0.555997</td>\n",
              "      <td>-0.544482</td>\n",
              "      <td>-0.132372</td>\n",
              "      <td>0.911822</td>\n",
              "      <td>-0.146773</td>\n",
              "      <td>-0.070871</td>\n",
              "      <td>-0.070599</td>\n",
              "      <td>-0.039323</td>\n",
              "      <td>-0.073427</td>\n",
              "    </tr>\n",
              "    <tr>\n",
              "      <th>2</th>\n",
              "      <td>1.0</td>\n",
              "      <td>1.0</td>\n",
              "      <td>0.0</td>\n",
              "      <td>6.0</td>\n",
              "      <td>0.231313</td>\n",
              "      <td>1.0</td>\n",
              "      <td>-0.083183</td>\n",
              "      <td>-0.765651</td>\n",
              "      <td>1.299116</td>\n",
              "      <td>-0.855453</td>\n",
              "      <td>-0.176064</td>\n",
              "      <td>-0.092010</td>\n",
              "      <td>-0.091711</td>\n",
              "      <td>-0.039323</td>\n",
              "      <td>-0.086581</td>\n",
              "    </tr>\n",
              "    <tr>\n",
              "      <th>3</th>\n",
              "      <td>1.0</td>\n",
              "      <td>1.0</td>\n",
              "      <td>0.0</td>\n",
              "      <td>6.0</td>\n",
              "      <td>0.280423</td>\n",
              "      <td>1.0</td>\n",
              "      <td>0.243307</td>\n",
              "      <td>-0.514764</td>\n",
              "      <td>1.198738</td>\n",
              "      <td>0.045917</td>\n",
              "      <td>-0.176064</td>\n",
              "      <td>-0.092010</td>\n",
              "      <td>-0.091711</td>\n",
              "      <td>-0.039323</td>\n",
              "      <td>-0.086376</td>\n",
              "    </tr>\n",
              "    <tr>\n",
              "      <th>4</th>\n",
              "      <td>1.0</td>\n",
              "      <td>1.0</td>\n",
              "      <td>0.0</td>\n",
              "      <td>6.0</td>\n",
              "      <td>0.231313</td>\n",
              "      <td>1.0</td>\n",
              "      <td>-0.152567</td>\n",
              "      <td>-0.821604</td>\n",
              "      <td>1.190882</td>\n",
              "      <td>-0.855453</td>\n",
              "      <td>-0.176064</td>\n",
              "      <td>-0.092010</td>\n",
              "      <td>-0.091711</td>\n",
              "      <td>-0.039323</td>\n",
              "      <td>-0.086581</td>\n",
              "    </tr>\n",
              "  </tbody>\n",
              "</table>\n",
              "</div>"
            ],
            "text/plain": [
              "    0    1    2    3         4    5         6         7         8         9   \\\n",
              "0  1.0  1.0  0.0  6.0  0.231313  0.0 -0.291335 -0.921895  1.292133 -0.855453   \n",
              "1  1.0  1.0  0.0  6.0  0.272629  1.0 -0.555997 -0.544482 -0.132372  0.911822   \n",
              "2  1.0  1.0  0.0  6.0  0.231313  1.0 -0.083183 -0.765651  1.299116 -0.855453   \n",
              "3  1.0  1.0  0.0  6.0  0.280423  1.0  0.243307 -0.514764  1.198738  0.045917   \n",
              "4  1.0  1.0  0.0  6.0  0.231313  1.0 -0.152567 -0.821604  1.190882 -0.855453   \n",
              "\n",
              "         10        11        12        13        14  \n",
              "0 -0.176064 -0.092010 -0.091711 -0.039323 -0.086581  \n",
              "1 -0.146773 -0.070871 -0.070599 -0.039323 -0.073427  \n",
              "2 -0.176064 -0.092010 -0.091711 -0.039323 -0.086581  \n",
              "3 -0.176064 -0.092010 -0.091711 -0.039323 -0.086376  \n",
              "4 -0.176064 -0.092010 -0.091711 -0.039323 -0.086581  "
            ]
          },
          "metadata": {
            "tags": []
          },
          "execution_count": 154
        }
      ]
    },
    {
      "cell_type": "code",
      "metadata": {
        "id": "qqXbkjKqXIAO",
        "colab_type": "code",
        "colab": {}
      },
      "source": [
        "lr=LogisticRegression(class_weight='balanced')"
      ],
      "execution_count": 0,
      "outputs": []
    },
    {
      "cell_type": "code",
      "metadata": {
        "id": "-5qkTdbqXIAS",
        "colab_type": "code",
        "outputId": "8d847280-29ba-4873-c423-91d7fe0ed3a9",
        "colab": {}
      },
      "source": [
        "cross_cv=cross_validate(lr,X_new,final['loan_default'],cv=5,return_train_score=False,scoring='roc_auc')"
      ],
      "execution_count": 0,
      "outputs": [
        {
          "output_type": "stream",
          "text": [
            "/home/prakhar/.local/lib/python3.5/site-packages/sklearn/linear_model/logistic.py:433: FutureWarning: Default solver will be changed to 'lbfgs' in 0.22. Specify a solver to silence this warning.\n",
            "  FutureWarning)\n",
            "/home/prakhar/.local/lib/python3.5/site-packages/sklearn/linear_model/logistic.py:433: FutureWarning: Default solver will be changed to 'lbfgs' in 0.22. Specify a solver to silence this warning.\n",
            "  FutureWarning)\n",
            "/home/prakhar/.local/lib/python3.5/site-packages/sklearn/linear_model/logistic.py:433: FutureWarning: Default solver will be changed to 'lbfgs' in 0.22. Specify a solver to silence this warning.\n",
            "  FutureWarning)\n",
            "/home/prakhar/.local/lib/python3.5/site-packages/sklearn/linear_model/logistic.py:433: FutureWarning: Default solver will be changed to 'lbfgs' in 0.22. Specify a solver to silence this warning.\n",
            "  FutureWarning)\n",
            "/home/prakhar/.local/lib/python3.5/site-packages/sklearn/linear_model/logistic.py:433: FutureWarning: Default solver will be changed to 'lbfgs' in 0.22. Specify a solver to silence this warning.\n",
            "  FutureWarning)\n"
          ],
          "name": "stderr"
        }
      ]
    },
    {
      "cell_type": "code",
      "metadata": {
        "id": "er2c-HIsXIAW",
        "colab_type": "code",
        "outputId": "02c64e2e-fd5a-4369-e074-d8d9f6102da7",
        "colab": {}
      },
      "source": [
        "cross_cv['test_score'].mean()"
      ],
      "execution_count": 0,
      "outputs": [
        {
          "output_type": "execute_result",
          "data": {
            "text/plain": [
              "0.618622292766271"
            ]
          },
          "metadata": {
            "tags": []
          },
          "execution_count": 166
        }
      ]
    },
    {
      "cell_type": "code",
      "metadata": {
        "id": "bAJMIBsyXIAa",
        "colab_type": "code",
        "colab": {}
      },
      "source": [
        "X_train, X_test, y_train, y_test = train_test_split(X_new, final['loan_default'], test_size=0.33, random_state=42)\n"
      ],
      "execution_count": 0,
      "outputs": []
    },
    {
      "cell_type": "code",
      "metadata": {
        "id": "17NNJh0_XIAe",
        "colab_type": "code",
        "outputId": "6b8dc987-fe98-45ed-e4d2-7036e7f8ea33",
        "colab": {}
      },
      "source": [
        "#train\n",
        "lr.fit(X_train,y_train)"
      ],
      "execution_count": 0,
      "outputs": [
        {
          "output_type": "stream",
          "text": [
            "/home/prakhar/.local/lib/python3.5/site-packages/sklearn/linear_model/logistic.py:433: FutureWarning: Default solver will be changed to 'lbfgs' in 0.22. Specify a solver to silence this warning.\n",
            "  FutureWarning)\n"
          ],
          "name": "stderr"
        },
        {
          "output_type": "execute_result",
          "data": {
            "text/plain": [
              "LogisticRegression(C=1.0, class_weight='balanced', dual=False,\n",
              "          fit_intercept=True, intercept_scaling=1, max_iter=100,\n",
              "          multi_class='warn', n_jobs=None, penalty='l2', random_state=None,\n",
              "          solver='warn', tol=0.0001, verbose=0, warm_start=False)"
            ]
          },
          "metadata": {
            "tags": []
          },
          "execution_count": 168
        }
      ]
    },
    {
      "cell_type": "code",
      "metadata": {
        "id": "Y_lieMmmXIAi",
        "colab_type": "code",
        "colab": {}
      },
      "source": [
        "pred=lr.predict(X_test)"
      ],
      "execution_count": 0,
      "outputs": []
    },
    {
      "cell_type": "code",
      "metadata": {
        "id": "wdNIluMcXIAk",
        "colab_type": "code",
        "outputId": "b84349d3-3d05-4ddc-a1b3-1059b9d1bd3f",
        "colab": {}
      },
      "source": [
        "print(classification_report(y_test,pred))"
      ],
      "execution_count": 0,
      "outputs": [
        {
          "output_type": "stream",
          "text": [
            "              precision    recall  f1-score   support\n",
            "\n",
            "           0       0.84      0.55      0.66     60178\n",
            "           1       0.28      0.63      0.38     16763\n",
            "\n",
            "   micro avg       0.56      0.56      0.56     76941\n",
            "   macro avg       0.56      0.59      0.52     76941\n",
            "weighted avg       0.72      0.56      0.60     76941\n",
            "\n"
          ],
          "name": "stdout"
        }
      ]
    },
    {
      "cell_type": "code",
      "metadata": {
        "id": "6hG3X7yBXIAp",
        "colab_type": "code",
        "outputId": "604dcd4e-ba9c-4dc3-b42f-05b62e2e6047",
        "colab": {}
      },
      "source": [
        "confusion_matrix(y_test,pred)"
      ],
      "execution_count": 0,
      "outputs": [
        {
          "output_type": "execute_result",
          "data": {
            "text/plain": [
              "array([[32901, 27277],\n",
              "       [ 6281, 10482]])"
            ]
          },
          "metadata": {
            "tags": []
          },
          "execution_count": 189
        }
      ]
    },
    {
      "cell_type": "code",
      "metadata": {
        "id": "1catdzDqXIAx",
        "colab_type": "code",
        "outputId": "c933d7a0-ab29-4948-a0b0-546260cdcd31",
        "colab": {}
      },
      "source": [
        "roc_auc_score(y_test,pred)"
      ],
      "execution_count": 0,
      "outputs": [
        {
          "output_type": "execute_result",
          "data": {
            "text/plain": [
              "0.5860168865058041"
            ]
          },
          "metadata": {
            "tags": []
          },
          "execution_count": 172
        }
      ]
    },
    {
      "cell_type": "code",
      "metadata": {
        "id": "6PP2t-dwXIA9",
        "colab_type": "code",
        "colab": {}
      },
      "source": [
        "te.transform(test[tar_en],)"
      ],
      "execution_count": 0,
      "outputs": []
    },
    {
      "cell_type": "code",
      "metadata": {
        "id": "5FT7cu1rXIBE",
        "colab_type": "code",
        "colab": {}
      },
      "source": [
        ""
      ],
      "execution_count": 0,
      "outputs": []
    },
    {
      "cell_type": "markdown",
      "metadata": {
        "id": "diLxjSlyXIBJ",
        "colab_type": "text"
      },
      "source": [
        "## PREDICTION"
      ]
    },
    {
      "cell_type": "code",
      "metadata": {
        "id": "JqzlD13WXIBM",
        "colab_type": "code",
        "colab": {}
      },
      "source": [
        "test=pd.read_csv('/content/drive/My Drive/test_bqCt9Pv.csv')"
      ],
      "execution_count": 0,
      "outputs": []
    },
    {
      "cell_type": "code",
      "metadata": {
        "id": "yxGk63adXIBU",
        "colab_type": "code",
        "colab": {}
      },
      "source": [
        "def convert_test(df):\n",
        "    df=df.drop(['UniqueID','branch_id','supplier_id','manufacturer_id','Current_pincode_ID',\n",
        "                           'Date.of.Birth','DisbursalDate','Employee_code_ID'],axis=1)\n",
        "    #calling change 1\n",
        "    \n",
        "    \n",
        "    \n",
        "    df['AVERAGE.ACCT.AGE_num']=change1(df,'AVERAGE.ACCT.AGE')\n",
        "    \n",
        "    duration=[]\n",
        "    df['CREDIT.HISTORY.LENGTH_num']=change1(df,'CREDIT.HISTORY.LENGTH')\n",
        "    df=df.drop(['AVERAGE.ACCT.AGE','CREDIT.HISTORY.LENGTH'],axis=1)\n",
        "    #target encoding\n",
        "    \n",
        "    #te.fit(df[tar_en],df['loan_default'])\n",
        "    en=tte.transform(df[tar_en])\n",
        "    \n",
        "    \n",
        "    sc=StandardScaler()\n",
        "    #print('hello')\n",
        "    scaled_df=pd.DataFrame(sc.fit_transform(df[['disbursed_amount','asset_cost',\n",
        "                                               'ltv','PERFORM_CNS.SCORE','PRI.CURRENT.BALANCE',\n",
        "                                               'PRI.SANCTIONED.AMOUNT','PRI.DISBURSED.AMOUNT',\n",
        "                                               'SEC.CURRENT.BALANCE','SEC.DISBURSED.AMOUNT',\n",
        "                                               'PRIMARY.INSTAL.AMT','SEC.INSTAL.AMT']]),columns=col)\n",
        "    df=df.drop(col,axis=1)\n",
        "    df=df.drop(['State_ID','PERFORM_CNS.SCORE.DESCRIPTION'],axis=1)\n",
        "   \n",
        "    #create dummyasset_cost\n",
        "    dummy=pd.get_dummies(df['Employment.Type'],drop_first=True)\n",
        "    comb=pd.concat([df,dummy,en,scaled_df],axis=1)\n",
        "    #print(comb.head(1))\n",
        "    comb=comb.drop(['Employment.Type'],axis=1)\n",
        "    \n",
        "    \n",
        "    print('conversion done')\n",
        "    return comb"
      ],
      "execution_count": 0,
      "outputs": []
    },
    {
      "cell_type": "code",
      "metadata": {
        "id": "5joErfKLXIBb",
        "colab_type": "code",
        "outputId": "724d3533-ead7-40e2-9295-af1700add80c",
        "colab": {
          "base_uri": "https://localhost:8080/",
          "height": 122
        }
      },
      "source": [
        "test_con=convert_test(test)"
      ],
      "execution_count": 0,
      "outputs": [
        {
          "output_type": "stream",
          "text": [
            "conversion done\n"
          ],
          "name": "stdout"
        },
        {
          "output_type": "stream",
          "text": [
            "/usr/local/lib/python3.6/dist-packages/sklearn/preprocessing/data.py:645: DataConversionWarning: Data with input dtype int64, float64 were all converted to float64 by StandardScaler.\n",
            "  return self.partial_fit(X, y)\n",
            "/usr/local/lib/python3.6/dist-packages/sklearn/base.py:464: DataConversionWarning: Data with input dtype int64, float64 were all converted to float64 by StandardScaler.\n",
            "  return self.fit(X, **fit_params).transform(X)\n"
          ],
          "name": "stderr"
        }
      ]
    },
    {
      "cell_type": "code",
      "metadata": {
        "id": "fOvJxs8uXIBh",
        "colab_type": "code",
        "outputId": "d48a51b4-dfde-41ab-c54d-10dd9c57007c",
        "colab": {}
      },
      "source": [
        "test.columns"
      ],
      "execution_count": 0,
      "outputs": [
        {
          "output_type": "execute_result",
          "data": {
            "text/plain": [
              "Index(['UniqueID', 'disbursed_amount', 'asset_cost', 'ltv', 'branch_id',\n",
              "       'supplier_id', 'manufacturer_id', 'Current_pincode_ID', 'Date.of.Birth',\n",
              "       'Employment.Type', 'DisbursalDate', 'State_ID', 'Employee_code_ID',\n",
              "       'MobileNo_Avl_Flag', 'Aadhar_flag', 'PAN_flag', 'VoterID_flag',\n",
              "       'Driving_flag', 'Passport_flag', 'PERFORM_CNS.SCORE',\n",
              "       'PERFORM_CNS.SCORE.DESCRIPTION', 'PRI.NO.OF.ACCTS', 'PRI.ACTIVE.ACCTS',\n",
              "       'PRI.OVERDUE.ACCTS', 'PRI.CURRENT.BALANCE', 'PRI.SANCTIONED.AMOUNT',\n",
              "       'PRI.DISBURSED.AMOUNT', 'SEC.NO.OF.ACCTS', 'SEC.ACTIVE.ACCTS',\n",
              "       'SEC.OVERDUE.ACCTS', 'SEC.CURRENT.BALANCE', 'SEC.SANCTIONED.AMOUNT',\n",
              "       'SEC.DISBURSED.AMOUNT', 'PRIMARY.INSTAL.AMT', 'SEC.INSTAL.AMT',\n",
              "       'NEW.ACCTS.IN.LAST.SIX.MONTHS', 'DELINQUENT.ACCTS.IN.LAST.SIX.MONTHS',\n",
              "       'AVERAGE.ACCT.AGE', 'CREDIT.HISTORY.LENGTH', 'NO.OF_INQUIRIES'],\n",
              "      dtype='object')"
            ]
          },
          "metadata": {
            "tags": []
          },
          "execution_count": 123
        }
      ]
    },
    {
      "cell_type": "code",
      "metadata": {
        "id": "anlf0o88XIBq",
        "colab_type": "code",
        "outputId": "ae6f7a4d-0bd0-4347-e551-ffe8f9bf9bc1",
        "colab": {}
      },
      "source": [
        "test_con.head()"
      ],
      "execution_count": 0,
      "outputs": [
        {
          "output_type": "execute_result",
          "data": {
            "text/html": [
              "<div>\n",
              "<style scoped>\n",
              "    .dataframe tbody tr th:only-of-type {\n",
              "        vertical-align: middle;\n",
              "    }\n",
              "\n",
              "    .dataframe tbody tr th {\n",
              "        vertical-align: top;\n",
              "    }\n",
              "\n",
              "    .dataframe thead th {\n",
              "        text-align: right;\n",
              "    }\n",
              "</style>\n",
              "<table border=\"1\" class=\"dataframe\">\n",
              "  <thead>\n",
              "    <tr style=\"text-align: right;\">\n",
              "      <th></th>\n",
              "      <th>MobileNo_Avl_Flag</th>\n",
              "      <th>Aadhar_flag</th>\n",
              "      <th>PAN_flag</th>\n",
              "      <th>VoterID_flag</th>\n",
              "      <th>Driving_flag</th>\n",
              "      <th>Passport_flag</th>\n",
              "      <th>PRI.NO.OF.ACCTS</th>\n",
              "      <th>PRI.ACTIVE.ACCTS</th>\n",
              "      <th>PRI.OVERDUE.ACCTS</th>\n",
              "      <th>SEC.NO.OF.ACCTS</th>\n",
              "      <th>SEC.ACTIVE.ACCTS</th>\n",
              "      <th>SEC.OVERDUE.ACCTS</th>\n",
              "      <th>SEC.SANCTIONED.AMOUNT</th>\n",
              "      <th>NEW.ACCTS.IN.LAST.SIX.MONTHS</th>\n",
              "      <th>DELINQUENT.ACCTS.IN.LAST.SIX.MONTHS</th>\n",
              "      <th>NO.OF_INQUIRIES</th>\n",
              "      <th>AVERAGE.ACCT.AGE_num</th>\n",
              "      <th>CREDIT.HISTORY.LENGTH_num</th>\n",
              "      <th>Self employed</th>\n",
              "      <th>State_ID</th>\n",
              "      <th>PERFORM_CNS.SCORE.DESCRIPTION</th>\n",
              "      <th>disbursed_amount</th>\n",
              "      <th>asset_cost</th>\n",
              "      <th>ltv</th>\n",
              "      <th>PERFORM_CNS.SCORE</th>\n",
              "      <th>PRI.CURRENT.BALANCE</th>\n",
              "      <th>PRI.SANCTIONED.AMOUNT</th>\n",
              "      <th>PRI.DISBURSED.AMOUNT</th>\n",
              "      <th>SEC.CURRENT.BALANCE</th>\n",
              "      <th>SEC.DISBURSED.AMOUNT</th>\n",
              "      <th>PRIMARY.INSTAL.AMT</th>\n",
              "      <th>SEC.INSTAL.AMT</th>\n",
              "    </tr>\n",
              "  </thead>\n",
              "  <tbody>\n",
              "    <tr>\n",
              "      <th>0</th>\n",
              "      <td>1</td>\n",
              "      <td>1</td>\n",
              "      <td>0</td>\n",
              "      <td>0</td>\n",
              "      <td>0</td>\n",
              "      <td>0</td>\n",
              "      <td>0</td>\n",
              "      <td>0</td>\n",
              "      <td>0</td>\n",
              "      <td>0</td>\n",
              "      <td>0</td>\n",
              "      <td>0</td>\n",
              "      <td>0</td>\n",
              "      <td>0</td>\n",
              "      <td>0</td>\n",
              "      <td>0</td>\n",
              "      <td>0</td>\n",
              "      <td>0</td>\n",
              "      <td>0</td>\n",
              "      <td>6</td>\n",
              "      <td>0.231313</td>\n",
              "      <td>-0.198025</td>\n",
              "      <td>-0.745886</td>\n",
              "      <td>1.020292</td>\n",
              "      <td>-0.847951</td>\n",
              "      <td>-0.167128</td>\n",
              "      <td>-0.178882</td>\n",
              "      <td>-0.178195</td>\n",
              "      <td>-0.019744</td>\n",
              "      <td>-0.018231</td>\n",
              "      <td>-0.040992</td>\n",
              "      <td>-0.009519</td>\n",
              "    </tr>\n",
              "    <tr>\n",
              "      <th>1</th>\n",
              "      <td>1</td>\n",
              "      <td>1</td>\n",
              "      <td>0</td>\n",
              "      <td>0</td>\n",
              "      <td>0</td>\n",
              "      <td>0</td>\n",
              "      <td>2</td>\n",
              "      <td>1</td>\n",
              "      <td>0</td>\n",
              "      <td>0</td>\n",
              "      <td>0</td>\n",
              "      <td>0</td>\n",
              "      <td>0</td>\n",
              "      <td>1</td>\n",
              "      <td>0</td>\n",
              "      <td>1</td>\n",
              "      <td>8</td>\n",
              "      <td>12</td>\n",
              "      <td>1</td>\n",
              "      <td>6</td>\n",
              "      <td>0.172639</td>\n",
              "      <td>-0.042961</td>\n",
              "      <td>-0.767505</td>\n",
              "      <td>1.284686</td>\n",
              "      <td>1.356254</td>\n",
              "      <td>-0.117753</td>\n",
              "      <td>-0.133265</td>\n",
              "      <td>-0.132903</td>\n",
              "      <td>-0.019744</td>\n",
              "      <td>-0.018231</td>\n",
              "      <td>-0.020545</td>\n",
              "      <td>-0.009519</td>\n",
              "    </tr>\n",
              "    <tr>\n",
              "      <th>2</th>\n",
              "      <td>1</td>\n",
              "      <td>1</td>\n",
              "      <td>1</td>\n",
              "      <td>0</td>\n",
              "      <td>0</td>\n",
              "      <td>0</td>\n",
              "      <td>0</td>\n",
              "      <td>0</td>\n",
              "      <td>0</td>\n",
              "      <td>0</td>\n",
              "      <td>0</td>\n",
              "      <td>0</td>\n",
              "      <td>0</td>\n",
              "      <td>0</td>\n",
              "      <td>0</td>\n",
              "      <td>0</td>\n",
              "      <td>0</td>\n",
              "      <td>0</td>\n",
              "      <td>0</td>\n",
              "      <td>4</td>\n",
              "      <td>0.231313</td>\n",
              "      <td>0.701421</td>\n",
              "      <td>0.390425</td>\n",
              "      <td>0.419729</td>\n",
              "      <td>-0.847951</td>\n",
              "      <td>-0.167128</td>\n",
              "      <td>-0.178882</td>\n",
              "      <td>-0.178195</td>\n",
              "      <td>-0.019744</td>\n",
              "      <td>-0.018231</td>\n",
              "      <td>-0.040992</td>\n",
              "      <td>-0.009519</td>\n",
              "    </tr>\n",
              "    <tr>\n",
              "      <th>3</th>\n",
              "      <td>1</td>\n",
              "      <td>1</td>\n",
              "      <td>0</td>\n",
              "      <td>0</td>\n",
              "      <td>0</td>\n",
              "      <td>0</td>\n",
              "      <td>1</td>\n",
              "      <td>1</td>\n",
              "      <td>1</td>\n",
              "      <td>0</td>\n",
              "      <td>0</td>\n",
              "      <td>0</td>\n",
              "      <td>0</td>\n",
              "      <td>0</td>\n",
              "      <td>0</td>\n",
              "      <td>0</td>\n",
              "      <td>29</td>\n",
              "      <td>29</td>\n",
              "      <td>1</td>\n",
              "      <td>4</td>\n",
              "      <td>0.213115</td>\n",
              "      <td>-0.698877</td>\n",
              "      <td>-0.727387</td>\n",
              "      <td>0.115359</td>\n",
              "      <td>-0.806751</td>\n",
              "      <td>-0.018121</td>\n",
              "      <td>0.059583</td>\n",
              "      <td>0.058572</td>\n",
              "      <td>-0.019744</td>\n",
              "      <td>-0.018231</td>\n",
              "      <td>-0.040992</td>\n",
              "      <td>-0.009519</td>\n",
              "    </tr>\n",
              "    <tr>\n",
              "      <th>4</th>\n",
              "      <td>1</td>\n",
              "      <td>1</td>\n",
              "      <td>0</td>\n",
              "      <td>0</td>\n",
              "      <td>0</td>\n",
              "      <td>0</td>\n",
              "      <td>0</td>\n",
              "      <td>0</td>\n",
              "      <td>0</td>\n",
              "      <td>0</td>\n",
              "      <td>0</td>\n",
              "      <td>0</td>\n",
              "      <td>0</td>\n",
              "      <td>0</td>\n",
              "      <td>0</td>\n",
              "      <td>0</td>\n",
              "      <td>0</td>\n",
              "      <td>0</td>\n",
              "      <td>0</td>\n",
              "      <td>4</td>\n",
              "      <td>0.231313</td>\n",
              "      <td>-0.354231</td>\n",
              "      <td>-0.727387</td>\n",
              "      <td>0.978498</td>\n",
              "      <td>-0.847951</td>\n",
              "      <td>-0.167128</td>\n",
              "      <td>-0.178882</td>\n",
              "      <td>-0.178195</td>\n",
              "      <td>-0.019744</td>\n",
              "      <td>-0.018231</td>\n",
              "      <td>-0.040992</td>\n",
              "      <td>-0.009519</td>\n",
              "    </tr>\n",
              "  </tbody>\n",
              "</table>\n",
              "</div>"
            ],
            "text/plain": [
              "   MobileNo_Avl_Flag  Aadhar_flag  PAN_flag  VoterID_flag  Driving_flag  \\\n",
              "0                  1            1         0             0             0   \n",
              "1                  1            1         0             0             0   \n",
              "2                  1            1         1             0             0   \n",
              "3                  1            1         0             0             0   \n",
              "4                  1            1         0             0             0   \n",
              "\n",
              "   Passport_flag  PRI.NO.OF.ACCTS  PRI.ACTIVE.ACCTS  PRI.OVERDUE.ACCTS  \\\n",
              "0              0                0                 0                  0   \n",
              "1              0                2                 1                  0   \n",
              "2              0                0                 0                  0   \n",
              "3              0                1                 1                  1   \n",
              "4              0                0                 0                  0   \n",
              "\n",
              "   SEC.NO.OF.ACCTS  SEC.ACTIVE.ACCTS  SEC.OVERDUE.ACCTS  \\\n",
              "0                0                 0                  0   \n",
              "1                0                 0                  0   \n",
              "2                0                 0                  0   \n",
              "3                0                 0                  0   \n",
              "4                0                 0                  0   \n",
              "\n",
              "   SEC.SANCTIONED.AMOUNT  NEW.ACCTS.IN.LAST.SIX.MONTHS  \\\n",
              "0                      0                             0   \n",
              "1                      0                             1   \n",
              "2                      0                             0   \n",
              "3                      0                             0   \n",
              "4                      0                             0   \n",
              "\n",
              "   DELINQUENT.ACCTS.IN.LAST.SIX.MONTHS  NO.OF_INQUIRIES  AVERAGE.ACCT.AGE_num  \\\n",
              "0                                    0                0                     0   \n",
              "1                                    0                1                     8   \n",
              "2                                    0                0                     0   \n",
              "3                                    0                0                    29   \n",
              "4                                    0                0                     0   \n",
              "\n",
              "   CREDIT.HISTORY.LENGTH_num  Self employed  State_ID  \\\n",
              "0                          0              0         6   \n",
              "1                         12              1         6   \n",
              "2                          0              0         4   \n",
              "3                         29              1         4   \n",
              "4                          0              0         4   \n",
              "\n",
              "   PERFORM_CNS.SCORE.DESCRIPTION  disbursed_amount  asset_cost       ltv  \\\n",
              "0                       0.231313         -0.198025   -0.745886  1.020292   \n",
              "1                       0.172639         -0.042961   -0.767505  1.284686   \n",
              "2                       0.231313          0.701421    0.390425  0.419729   \n",
              "3                       0.213115         -0.698877   -0.727387  0.115359   \n",
              "4                       0.231313         -0.354231   -0.727387  0.978498   \n",
              "\n",
              "   PERFORM_CNS.SCORE  PRI.CURRENT.BALANCE  PRI.SANCTIONED.AMOUNT  \\\n",
              "0          -0.847951            -0.167128              -0.178882   \n",
              "1           1.356254            -0.117753              -0.133265   \n",
              "2          -0.847951            -0.167128              -0.178882   \n",
              "3          -0.806751            -0.018121               0.059583   \n",
              "4          -0.847951            -0.167128              -0.178882   \n",
              "\n",
              "   PRI.DISBURSED.AMOUNT  SEC.CURRENT.BALANCE  SEC.DISBURSED.AMOUNT  \\\n",
              "0             -0.178195            -0.019744             -0.018231   \n",
              "1             -0.132903            -0.019744             -0.018231   \n",
              "2             -0.178195            -0.019744             -0.018231   \n",
              "3              0.058572            -0.019744             -0.018231   \n",
              "4             -0.178195            -0.019744             -0.018231   \n",
              "\n",
              "   PRIMARY.INSTAL.AMT  SEC.INSTAL.AMT  \n",
              "0           -0.040992       -0.009519  \n",
              "1           -0.020545       -0.009519  \n",
              "2           -0.040992       -0.009519  \n",
              "3           -0.040992       -0.009519  \n",
              "4           -0.040992       -0.009519  "
            ]
          },
          "metadata": {
            "tags": []
          },
          "execution_count": 176
        }
      ]
    },
    {
      "cell_type": "code",
      "metadata": {
        "id": "C_lBHxF9XIB0",
        "colab_type": "code",
        "colab": {}
      },
      "source": [
        "test_best=pd.DataFrame(sl.transform(test_con))"
      ],
      "execution_count": 0,
      "outputs": []
    },
    {
      "cell_type": "code",
      "metadata": {
        "id": "wknIt3nrXIB4",
        "colab_type": "code",
        "colab": {}
      },
      "source": [
        "test_best['Employee_code_ID']=test['Employee_code_ID']"
      ],
      "execution_count": 0,
      "outputs": []
    },
    {
      "cell_type": "code",
      "metadata": {
        "id": "VBWS5voFXIB8",
        "colab_type": "code",
        "outputId": "e9e68135-fc4b-4d3b-f8d6-7f284a7dd0ef",
        "colab": {}
      },
      "source": [
        "pred_test=lr.predict(test_best)"
      ],
      "execution_count": 0,
      "outputs": [
        {
          "output_type": "error",
          "ename": "NameError",
          "evalue": "name 'lr' is not defined",
          "traceback": [
            "\u001b[0;31m---------------------------------------------------------------------------\u001b[0m",
            "\u001b[0;31mNameError\u001b[0m                                 Traceback (most recent call last)",
            "\u001b[0;32m<ipython-input-1-6153fdd7b40d>\u001b[0m in \u001b[0;36m<module>\u001b[0;34m\u001b[0m\n\u001b[0;32m----> 1\u001b[0;31m \u001b[0mpred_test\u001b[0m\u001b[0;34m=\u001b[0m\u001b[0mlr\u001b[0m\u001b[0;34m.\u001b[0m\u001b[0mpredict\u001b[0m\u001b[0;34m(\u001b[0m\u001b[0mtest_best\u001b[0m\u001b[0;34m)\u001b[0m\u001b[0;34m\u001b[0m\u001b[0m\n\u001b[0m",
            "\u001b[0;31mNameError\u001b[0m: name 'lr' is not defined"
          ]
        }
      ]
    },
    {
      "cell_type": "code",
      "metadata": {
        "id": "JeHZJCRTXICC",
        "colab_type": "code",
        "colab": {}
      },
      "source": [
        "my_sub=pd.DataFrame({'UniqueID':test.UniqueID,'loan_default':pred_lgb})"
      ],
      "execution_count": 0,
      "outputs": []
    },
    {
      "cell_type": "code",
      "metadata": {
        "id": "4Gn9QWY8XICF",
        "colab_type": "code",
        "colab": {}
      },
      "source": [
        "my_sub.to_csv('sub5.csv',index=False)"
      ],
      "execution_count": 0,
      "outputs": []
    },
    {
      "cell_type": "markdown",
      "metadata": {
        "id": "YMCY_3YbXICH",
        "colab_type": "text"
      },
      "source": [
        "# difference of algo xgboost"
      ]
    },
    {
      "cell_type": "code",
      "metadata": {
        "id": "XK4H7o-HXICI",
        "colab_type": "code",
        "outputId": "09dda9c7-511b-4d36-bb0f-021221d01a53",
        "colab": {}
      },
      "source": [
        "import xgboost as xgb\n",
        "from xgboost.sklearn import XGBClassifier"
      ],
      "execution_count": 0,
      "outputs": [
        {
          "output_type": "stream",
          "text": [
            "/home/prakhar/.local/lib/python3.5/site-packages/sklearn/cross_validation.py:41: DeprecationWarning: This module was deprecated in version 0.18 in favor of the model_selection module into which all the refactored classes and functions are moved. Also note that the interface of the new CV iterators are different from that of this module. This module will be removed in 0.20.\n",
            "  \"This module will be removed in 0.20.\", DeprecationWarning)\n"
          ],
          "name": "stderr"
        }
      ]
    },
    {
      "cell_type": "code",
      "metadata": {
        "id": "yn2fNhmFXICL",
        "colab_type": "code",
        "colab": {}
      },
      "source": [
        "xgb1 = XGBClassifier(\n",
        " learning_rate =0.1,\n",
        " n_estimators=1000,\n",
        " max_depth=5,\n",
        " min_child_weight=1,\n",
        " gamma=0,\n",
        " subsample=0.8,\n",
        " colsample_bytree=0.8,\n",
        " objective= 'binary:logistic',\n",
        " nthread=4,\n",
        " scale_pos_weight=1,\n",
        " seed=27)\n"
      ],
      "execution_count": 0,
      "outputs": []
    },
    {
      "cell_type": "code",
      "metadata": {
        "id": "P_TqVY_eXICQ",
        "colab_type": "code",
        "colab": {}
      },
      "source": [
        "\n",
        "y=final['loan_default']"
      ],
      "execution_count": 0,
      "outputs": []
    },
    {
      "cell_type": "code",
      "metadata": {
        "id": "LJfGZl9bXICU",
        "colab_type": "code",
        "outputId": "e2fa4436-7fef-4630-e7f5-aff8b5f5d74a",
        "colab": {}
      },
      "source": [
        "x_train = X_new.as_matrix()"
      ],
      "execution_count": 0,
      "outputs": [
        {
          "output_type": "stream",
          "text": [
            "/home/prakhar/.local/lib/python3.5/site-packages/ipykernel_launcher.py:1: FutureWarning: Method .as_matrix will be removed in a future version. Use .values instead.\n",
            "  \"\"\"Entry point for launching an IPython kernel.\n"
          ],
          "name": "stderr"
        }
      ]
    },
    {
      "cell_type": "code",
      "metadata": {
        "id": "cOgf9aBzXICa",
        "colab_type": "code",
        "outputId": "42e742c3-21ee-494c-cdeb-57f6f52d8e45",
        "colab": {}
      },
      "source": [
        "xgb1.fit(x_train,y,eval_metric='auc')"
      ],
      "execution_count": 0,
      "outputs": [
        {
          "output_type": "execute_result",
          "data": {
            "text/plain": [
              "XGBClassifier(base_score=0.5, colsample_bylevel=1, colsample_bytree=0.8,\n",
              "       gamma=0, learning_rate=0.1, max_delta_step=0, max_depth=5,\n",
              "       min_child_weight=1, missing=None, n_estimators=1000, nthread=4,\n",
              "       objective='binary:logistic', reg_alpha=0, reg_lambda=1,\n",
              "       scale_pos_weight=1, seed=27, silent=True, subsample=0.8)"
            ]
          },
          "metadata": {
            "tags": []
          },
          "execution_count": 184
        }
      ]
    },
    {
      "cell_type": "code",
      "metadata": {
        "id": "KBPVQ9DyXICe",
        "colab_type": "code",
        "outputId": "9a4076a7-4da4-4130-d519-97ec7255f371",
        "colab": {}
      },
      "source": [
        "pred_xgb=xgb1.predict(test_best.as_matrix())"
      ],
      "execution_count": 0,
      "outputs": [
        {
          "output_type": "stream",
          "text": [
            "/home/prakhar/.local/lib/python3.5/site-packages/ipykernel_launcher.py:1: FutureWarning: Method .as_matrix will be removed in a future version. Use .values instead.\n",
            "  \"\"\"Entry point for launching an IPython kernel.\n"
          ],
          "name": "stderr"
        }
      ]
    },
    {
      "cell_type": "markdown",
      "metadata": {
        "id": "76qHFy6HXICi",
        "colab_type": "text"
      },
      "source": [
        "## using bayesian optimization"
      ]
    },
    {
      "cell_type": "code",
      "metadata": {
        "id": "nZGnKnrMXICk",
        "colab_type": "code",
        "colab": {}
      },
      "source": [
        "import lightgbm as lgb\n",
        "from hyperopt import STATUS_OK\n",
        "\n",
        "N_FOLDS = 10\n",
        "from hyperopt import hp\n",
        "\n",
        "# Create the dataset\n",
        "train_set = lgb.Dataset(X_new, final['loan_default'])\n",
        "\n",
        "def objective(params, n_folds = N_FOLDS):\n",
        "    \"\"\"Objective function for Gradient Boosting Machine Hyperparameter Tuning\"\"\"\n",
        "    \n",
        "    # Perform n_fold cross validation with hyperparameters\n",
        "    # Use early stopping and evalute based on ROC AUC\n",
        "    cv_results = lgb.cv(params, train_set, nfold = n_folds, num_boost_round = 10000, \n",
        "                        early_stopping_rounds = 100, metrics = 'auc', seed = 50,class_weight='balance')\n",
        "  \n",
        "    # Extract the best score\n",
        "    best_score = max(cv_results['auc-mean'])\n",
        "    \n",
        "    # Loss must be minimized\n",
        "    loss = 1 - best_score\n",
        "    \n",
        "    # Dictionary with information for evaluation\n",
        "    return {'loss': loss, 'params': params, 'status': STATUS_OK}"
      ],
      "execution_count": 0,
      "outputs": []
    },
    {
      "cell_type": "code",
      "metadata": {
        "id": "Ir9YRqUGXICq",
        "colab_type": "code",
        "colab": {}
      },
      "source": [
        "space = {\n",
        "    'class_weight': 'balanced',\n",
        "    \n",
        "    'num_leaves': hp.quniform('num_leaves', 30, 150, 1),\n",
        "    'learning_rate': hp.loguniform('learning_rate', np.log(0.01), np.log(0.2)),\n",
        "    'subsample_for_bin': hp.quniform('subsample_for_bin', 20000, 300000, 20000),\n",
        "    'min_child_samples': hp.quniform('min_child_samples', 20, 500, 5),\n",
        "    'reg_alpha': hp.uniform('reg_alpha', 0.0, 1.0),\n",
        "    'reg_lambda': hp.uniform('reg_lambda', 0.0, 1.0),\n",
        "    'colsample_bytree': hp.uniform('colsample_by_tree', 0.6, 1.0)\n",
        "}"
      ],
      "execution_count": 0,
      "outputs": []
    },
    {
      "cell_type": "code",
      "metadata": {
        "id": "qtcwHed0XICu",
        "colab_type": "code",
        "colab": {}
      },
      "source": [
        "boosting_type = {'boosting_type': hp.choice('boosting_type', \n",
        "                                            [{'boosting_type': 'gbdt', \n",
        "                                                  'subsample': hp.uniform('subsample', 0.5, 1)}, \n",
        "                                             {'boosting_type': 'dart', \n",
        "                                                  'subsample': hp.uniform('subsample', 0.5, 1)},\n",
        "                                             {'boosting_type': 'goss',\n",
        "                                                  'subsample': 1.0}])}"
      ],
      "execution_count": 0,
      "outputs": []
    },
    {
      "cell_type": "code",
      "metadata": {
        "id": "LuHVuoYDXICx",
        "colab_type": "code",
        "outputId": "9c9769f9-8c3e-4da5-c0c9-d3c09c1f3c95",
        "colab": {}
      },
      "source": [
        "example = sample(space)\n",
        "\n",
        "# Dictionary get method with default\n",
        "subsample = example['boosting_type'].get('subsample', 1.0)\n",
        "\n",
        "# Assign top-level keys\n",
        "example['boosting_type'] = example['boosting_type']['boosting_type']\n",
        "example['subsample'] = subsample"
      ],
      "execution_count": 0,
      "outputs": [
        {
          "output_type": "error",
          "ename": "NameError",
          "evalue": "name 'sample' is not defined",
          "traceback": [
            "\u001b[0;31m---------------------------------------------------------------------------\u001b[0m",
            "\u001b[0;31mNameError\u001b[0m                                 Traceback (most recent call last)",
            "\u001b[0;32m<ipython-input-24-d2260aaaafb1>\u001b[0m in \u001b[0;36m<module>\u001b[0;34m\u001b[0m\n\u001b[0;32m----> 1\u001b[0;31m \u001b[0mexample\u001b[0m \u001b[0;34m=\u001b[0m \u001b[0msample\u001b[0m\u001b[0;34m(\u001b[0m\u001b[0mspace\u001b[0m\u001b[0;34m)\u001b[0m\u001b[0;34m\u001b[0m\u001b[0m\n\u001b[0m\u001b[1;32m      2\u001b[0m \u001b[0;34m\u001b[0m\u001b[0m\n\u001b[1;32m      3\u001b[0m \u001b[0;31m# Dictionary get method with default\u001b[0m\u001b[0;34m\u001b[0m\u001b[0;34m\u001b[0m\u001b[0m\n\u001b[1;32m      4\u001b[0m \u001b[0msubsample\u001b[0m \u001b[0;34m=\u001b[0m \u001b[0mexample\u001b[0m\u001b[0;34m[\u001b[0m\u001b[0;34m'boosting_type'\u001b[0m\u001b[0;34m]\u001b[0m\u001b[0;34m.\u001b[0m\u001b[0mget\u001b[0m\u001b[0;34m(\u001b[0m\u001b[0;34m'subsample'\u001b[0m\u001b[0;34m,\u001b[0m \u001b[0;36m1.0\u001b[0m\u001b[0;34m)\u001b[0m\u001b[0;34m\u001b[0m\u001b[0m\n\u001b[1;32m      5\u001b[0m \u001b[0;34m\u001b[0m\u001b[0m\n",
            "\u001b[0;31mNameError\u001b[0m: name 'sample' is not defined"
          ]
        }
      ]
    },
    {
      "cell_type": "code",
      "metadata": {
        "id": "6RVOMUJBXIC0",
        "colab_type": "code",
        "colab": {}
      },
      "source": [
        "from hyperopt import Trials\n",
        "# Trials object to track progress\n",
        "bayes_trials = Trials()\n"
      ],
      "execution_count": 0,
      "outputs": []
    },
    {
      "cell_type": "code",
      "metadata": {
        "id": "vjpYvBUBXIC1",
        "colab_type": "code",
        "colab": {}
      },
      "source": [
        "from hyperopt import tpe\n",
        "# Algorithm\n",
        "tpe_algorithm = tpe.suggest"
      ],
      "execution_count": 0,
      "outputs": []
    },
    {
      "cell_type": "code",
      "metadata": {
        "scrolled": true,
        "id": "Vmgp_n3_XIC4",
        "colab_type": "code",
        "outputId": "5dfcbfcf-ebc9-4a3d-c748-64f765287233",
        "colab": {}
      },
      "source": [
        "from hyperopt import fmin\n",
        "\n",
        "MAX_EVALS = 500\n",
        "\n",
        "# Optimize\n",
        "best = fmin(fn = objective, space = space, algo = tpe.suggest, \n",
        "            max_evals = MAX_EVALS, trials = bayes_trials)"
      ],
      "execution_count": 0,
      "outputs": [
        {
          "output_type": "error",
          "ename": "TypeError",
          "evalue": "cv() got an unexpected keyword argument 'class_weight'",
          "traceback": [
            "\u001b[0;31m---------------------------------------------------------------------------\u001b[0m",
            "\u001b[0;31mTypeError\u001b[0m                                 Traceback (most recent call last)",
            "\u001b[0;32m<ipython-input-35-ad5e59428638>\u001b[0m in \u001b[0;36m<module>\u001b[0;34m\u001b[0m\n\u001b[1;32m      5\u001b[0m \u001b[0;31m# Optimize\u001b[0m\u001b[0;34m\u001b[0m\u001b[0;34m\u001b[0m\u001b[0m\n\u001b[1;32m      6\u001b[0m best = fmin(fn = objective, space = space, algo = tpe.suggest, \n\u001b[0;32m----> 7\u001b[0;31m             max_evals = MAX_EVALS, trials = bayes_trials)\n\u001b[0m",
            "\u001b[0;32m~/.local/lib/python3.5/site-packages/hyperopt/fmin.py\u001b[0m in \u001b[0;36mfmin\u001b[0;34m(fn, space, algo, max_evals, trials, rstate, allow_trials_fmin, pass_expr_memo_ctrl, catch_eval_exceptions, verbose, return_argmin)\u001b[0m\n\u001b[1;32m    305\u001b[0m             \u001b[0mverbose\u001b[0m\u001b[0;34m=\u001b[0m\u001b[0mverbose\u001b[0m\u001b[0;34m,\u001b[0m\u001b[0;34m\u001b[0m\u001b[0m\n\u001b[1;32m    306\u001b[0m             \u001b[0mcatch_eval_exceptions\u001b[0m\u001b[0;34m=\u001b[0m\u001b[0mcatch_eval_exceptions\u001b[0m\u001b[0;34m,\u001b[0m\u001b[0;34m\u001b[0m\u001b[0m\n\u001b[0;32m--> 307\u001b[0;31m             \u001b[0mreturn_argmin\u001b[0m\u001b[0;34m=\u001b[0m\u001b[0mreturn_argmin\u001b[0m\u001b[0;34m,\u001b[0m\u001b[0;34m\u001b[0m\u001b[0m\n\u001b[0m\u001b[1;32m    308\u001b[0m         )\n\u001b[1;32m    309\u001b[0m \u001b[0;34m\u001b[0m\u001b[0m\n",
            "\u001b[0;32m~/.local/lib/python3.5/site-packages/hyperopt/base.py\u001b[0m in \u001b[0;36mfmin\u001b[0;34m(self, fn, space, algo, max_evals, rstate, verbose, pass_expr_memo_ctrl, catch_eval_exceptions, return_argmin)\u001b[0m\n\u001b[1;32m    633\u001b[0m             \u001b[0mpass_expr_memo_ctrl\u001b[0m\u001b[0;34m=\u001b[0m\u001b[0mpass_expr_memo_ctrl\u001b[0m\u001b[0;34m,\u001b[0m\u001b[0;34m\u001b[0m\u001b[0m\n\u001b[1;32m    634\u001b[0m             \u001b[0mcatch_eval_exceptions\u001b[0m\u001b[0;34m=\u001b[0m\u001b[0mcatch_eval_exceptions\u001b[0m\u001b[0;34m,\u001b[0m\u001b[0;34m\u001b[0m\u001b[0m\n\u001b[0;32m--> 635\u001b[0;31m             return_argmin=return_argmin)\n\u001b[0m\u001b[1;32m    636\u001b[0m \u001b[0;34m\u001b[0m\u001b[0m\n\u001b[1;32m    637\u001b[0m \u001b[0;34m\u001b[0m\u001b[0m\n",
            "\u001b[0;32m~/.local/lib/python3.5/site-packages/hyperopt/fmin.py\u001b[0m in \u001b[0;36mfmin\u001b[0;34m(fn, space, algo, max_evals, trials, rstate, allow_trials_fmin, pass_expr_memo_ctrl, catch_eval_exceptions, verbose, return_argmin)\u001b[0m\n\u001b[1;32m    318\u001b[0m                     verbose=verbose)\n\u001b[1;32m    319\u001b[0m     \u001b[0mrval\u001b[0m\u001b[0;34m.\u001b[0m\u001b[0mcatch_eval_exceptions\u001b[0m \u001b[0;34m=\u001b[0m \u001b[0mcatch_eval_exceptions\u001b[0m\u001b[0;34m\u001b[0m\u001b[0m\n\u001b[0;32m--> 320\u001b[0;31m     \u001b[0mrval\u001b[0m\u001b[0;34m.\u001b[0m\u001b[0mexhaust\u001b[0m\u001b[0;34m(\u001b[0m\u001b[0;34m)\u001b[0m\u001b[0;34m\u001b[0m\u001b[0m\n\u001b[0m\u001b[1;32m    321\u001b[0m     \u001b[0;32mif\u001b[0m \u001b[0mreturn_argmin\u001b[0m\u001b[0;34m:\u001b[0m\u001b[0;34m\u001b[0m\u001b[0m\n\u001b[1;32m    322\u001b[0m         \u001b[0;32mreturn\u001b[0m \u001b[0mtrials\u001b[0m\u001b[0;34m.\u001b[0m\u001b[0margmin\u001b[0m\u001b[0;34m\u001b[0m\u001b[0m\n",
            "\u001b[0;32m~/.local/lib/python3.5/site-packages/hyperopt/fmin.py\u001b[0m in \u001b[0;36mexhaust\u001b[0;34m(self)\u001b[0m\n\u001b[1;32m    197\u001b[0m     \u001b[0;32mdef\u001b[0m \u001b[0mexhaust\u001b[0m\u001b[0;34m(\u001b[0m\u001b[0mself\u001b[0m\u001b[0;34m)\u001b[0m\u001b[0;34m:\u001b[0m\u001b[0;34m\u001b[0m\u001b[0m\n\u001b[1;32m    198\u001b[0m         \u001b[0mn_done\u001b[0m \u001b[0;34m=\u001b[0m \u001b[0mlen\u001b[0m\u001b[0;34m(\u001b[0m\u001b[0mself\u001b[0m\u001b[0;34m.\u001b[0m\u001b[0mtrials\u001b[0m\u001b[0;34m)\u001b[0m\u001b[0;34m\u001b[0m\u001b[0m\n\u001b[0;32m--> 199\u001b[0;31m         \u001b[0mself\u001b[0m\u001b[0;34m.\u001b[0m\u001b[0mrun\u001b[0m\u001b[0;34m(\u001b[0m\u001b[0mself\u001b[0m\u001b[0;34m.\u001b[0m\u001b[0mmax_evals\u001b[0m \u001b[0;34m-\u001b[0m \u001b[0mn_done\u001b[0m\u001b[0;34m,\u001b[0m \u001b[0mblock_until_done\u001b[0m\u001b[0;34m=\u001b[0m\u001b[0mself\u001b[0m\u001b[0;34m.\u001b[0m\u001b[0masync\u001b[0m\u001b[0;34m)\u001b[0m\u001b[0;34m\u001b[0m\u001b[0m\n\u001b[0m\u001b[1;32m    200\u001b[0m         \u001b[0mself\u001b[0m\u001b[0;34m.\u001b[0m\u001b[0mtrials\u001b[0m\u001b[0;34m.\u001b[0m\u001b[0mrefresh\u001b[0m\u001b[0;34m(\u001b[0m\u001b[0;34m)\u001b[0m\u001b[0;34m\u001b[0m\u001b[0m\n\u001b[1;32m    201\u001b[0m         \u001b[0;32mreturn\u001b[0m \u001b[0mself\u001b[0m\u001b[0;34m\u001b[0m\u001b[0m\n",
            "\u001b[0;32m~/.local/lib/python3.5/site-packages/hyperopt/fmin.py\u001b[0m in \u001b[0;36mrun\u001b[0;34m(self, N, block_until_done)\u001b[0m\n\u001b[1;32m    171\u001b[0m             \u001b[0;32melse\u001b[0m\u001b[0;34m:\u001b[0m\u001b[0;34m\u001b[0m\u001b[0m\n\u001b[1;32m    172\u001b[0m                 \u001b[0;31m# -- loop over trials and do the jobs directly\u001b[0m\u001b[0;34m\u001b[0m\u001b[0;34m\u001b[0m\u001b[0m\n\u001b[0;32m--> 173\u001b[0;31m                 \u001b[0mself\u001b[0m\u001b[0;34m.\u001b[0m\u001b[0mserial_evaluate\u001b[0m\u001b[0;34m(\u001b[0m\u001b[0;34m)\u001b[0m\u001b[0;34m\u001b[0m\u001b[0m\n\u001b[0m\u001b[1;32m    174\u001b[0m \u001b[0;34m\u001b[0m\u001b[0m\n\u001b[1;32m    175\u001b[0m             \u001b[0;32mif\u001b[0m \u001b[0mstopped\u001b[0m\u001b[0;34m:\u001b[0m\u001b[0;34m\u001b[0m\u001b[0m\n",
            "\u001b[0;32m~/.local/lib/python3.5/site-packages/hyperopt/fmin.py\u001b[0m in \u001b[0;36mserial_evaluate\u001b[0;34m(self, N)\u001b[0m\n\u001b[1;32m     90\u001b[0m                 \u001b[0mctrl\u001b[0m \u001b[0;34m=\u001b[0m \u001b[0mbase\u001b[0m\u001b[0;34m.\u001b[0m\u001b[0mCtrl\u001b[0m\u001b[0;34m(\u001b[0m\u001b[0mself\u001b[0m\u001b[0;34m.\u001b[0m\u001b[0mtrials\u001b[0m\u001b[0;34m,\u001b[0m \u001b[0mcurrent_trial\u001b[0m\u001b[0;34m=\u001b[0m\u001b[0mtrial\u001b[0m\u001b[0;34m)\u001b[0m\u001b[0;34m\u001b[0m\u001b[0m\n\u001b[1;32m     91\u001b[0m                 \u001b[0;32mtry\u001b[0m\u001b[0;34m:\u001b[0m\u001b[0;34m\u001b[0m\u001b[0m\n\u001b[0;32m---> 92\u001b[0;31m                     \u001b[0mresult\u001b[0m \u001b[0;34m=\u001b[0m \u001b[0mself\u001b[0m\u001b[0;34m.\u001b[0m\u001b[0mdomain\u001b[0m\u001b[0;34m.\u001b[0m\u001b[0mevaluate\u001b[0m\u001b[0;34m(\u001b[0m\u001b[0mspec\u001b[0m\u001b[0;34m,\u001b[0m \u001b[0mctrl\u001b[0m\u001b[0;34m)\u001b[0m\u001b[0;34m\u001b[0m\u001b[0m\n\u001b[0m\u001b[1;32m     93\u001b[0m                 \u001b[0;32mexcept\u001b[0m \u001b[0mException\u001b[0m \u001b[0;32mas\u001b[0m \u001b[0me\u001b[0m\u001b[0;34m:\u001b[0m\u001b[0;34m\u001b[0m\u001b[0m\n\u001b[1;32m     94\u001b[0m                     \u001b[0mlogger\u001b[0m\u001b[0;34m.\u001b[0m\u001b[0minfo\u001b[0m\u001b[0;34m(\u001b[0m\u001b[0;34m'job exception: %s'\u001b[0m \u001b[0;34m%\u001b[0m \u001b[0mstr\u001b[0m\u001b[0;34m(\u001b[0m\u001b[0me\u001b[0m\u001b[0;34m)\u001b[0m\u001b[0;34m)\u001b[0m\u001b[0;34m\u001b[0m\u001b[0m\n",
            "\u001b[0;32m~/.local/lib/python3.5/site-packages/hyperopt/base.py\u001b[0m in \u001b[0;36mevaluate\u001b[0;34m(self, config, ctrl, attach_attachments)\u001b[0m\n\u001b[1;32m    838\u001b[0m                 \u001b[0mmemo\u001b[0m\u001b[0;34m=\u001b[0m\u001b[0mmemo\u001b[0m\u001b[0;34m,\u001b[0m\u001b[0;34m\u001b[0m\u001b[0m\n\u001b[1;32m    839\u001b[0m                 print_node_on_error=self.rec_eval_print_node_on_error)\n\u001b[0;32m--> 840\u001b[0;31m             \u001b[0mrval\u001b[0m \u001b[0;34m=\u001b[0m \u001b[0mself\u001b[0m\u001b[0;34m.\u001b[0m\u001b[0mfn\u001b[0m\u001b[0;34m(\u001b[0m\u001b[0mpyll_rval\u001b[0m\u001b[0;34m)\u001b[0m\u001b[0;34m\u001b[0m\u001b[0m\n\u001b[0m\u001b[1;32m    841\u001b[0m \u001b[0;34m\u001b[0m\u001b[0m\n\u001b[1;32m    842\u001b[0m         \u001b[0;32mif\u001b[0m \u001b[0misinstance\u001b[0m\u001b[0;34m(\u001b[0m\u001b[0mrval\u001b[0m\u001b[0;34m,\u001b[0m \u001b[0;34m(\u001b[0m\u001b[0mfloat\u001b[0m\u001b[0;34m,\u001b[0m \u001b[0mint\u001b[0m\u001b[0;34m,\u001b[0m \u001b[0mnp\u001b[0m\u001b[0;34m.\u001b[0m\u001b[0mnumber\u001b[0m\u001b[0;34m)\u001b[0m\u001b[0;34m)\u001b[0m\u001b[0;34m:\u001b[0m\u001b[0;34m\u001b[0m\u001b[0m\n",
            "\u001b[0;32m<ipython-input-34-3671f89dce39>\u001b[0m in \u001b[0;36mobjective\u001b[0;34m(params, n_folds)\u001b[0m\n\u001b[1;32m     14\u001b[0m     \u001b[0;31m# Use early stopping and evalute based on ROC AUC\u001b[0m\u001b[0;34m\u001b[0m\u001b[0;34m\u001b[0m\u001b[0m\n\u001b[1;32m     15\u001b[0m     cv_results = lgb.cv(params, train_set, nfold = n_folds, num_boost_round = 10000, \n\u001b[0;32m---> 16\u001b[0;31m                         early_stopping_rounds = 100, metrics = 'auc', seed = 50,class_weight='balance')\n\u001b[0m\u001b[1;32m     17\u001b[0m \u001b[0;34m\u001b[0m\u001b[0m\n\u001b[1;32m     18\u001b[0m     \u001b[0;31m# Extract the best score\u001b[0m\u001b[0;34m\u001b[0m\u001b[0;34m\u001b[0m\u001b[0m\n",
            "\u001b[0;31mTypeError\u001b[0m: cv() got an unexpected keyword argument 'class_weight'"
          ]
        }
      ]
    },
    {
      "cell_type": "code",
      "metadata": {
        "id": "GQUw291jXIC7",
        "colab_type": "code",
        "outputId": "d529ef0e-a2ad-4b29-a9a3-0fc1199e1e40",
        "colab": {}
      },
      "source": [
        "import lgb\n",
        "# Default gradient boosting machine classifier\n",
        "model = lgb.LGBMClassifier()\n",
        "model\n",
        "LGBMClassifier(boosting_type='gbdt', n_estimators=100,\n",
        "               class_weight=None, colsample_bytree=1.0,\n",
        "               learning_rate=0.1, max_depth=-1,                      \n",
        "               min_child_samples=20,\n",
        "               min_child_weight=0.001, min_split_gain=0.0, \n",
        "               n_jobs=-1, num_leaves=31, objective=None, \n",
        "               random_state=None, reg_alpha=0.0, reg_lambda=0.0, \n",
        "               silent=True, subsample=1.0, \n",
        "               subsample_for_bin=200000, subsample_freq=1)"
      ],
      "execution_count": 0,
      "outputs": [
        {
          "output_type": "error",
          "ename": "ImportError",
          "evalue": "No module named 'lgb'",
          "traceback": [
            "\u001b[0;31m---------------------------------------------------------------------------\u001b[0m",
            "\u001b[0;31mImportError\u001b[0m                               Traceback (most recent call last)",
            "\u001b[0;32m<ipython-input-36-a93345607cf9>\u001b[0m in \u001b[0;36m<module>\u001b[0;34m\u001b[0m\n\u001b[0;32m----> 1\u001b[0;31m \u001b[0;32mimport\u001b[0m \u001b[0mlgb\u001b[0m\u001b[0;34m\u001b[0m\u001b[0m\n\u001b[0m\u001b[1;32m      2\u001b[0m \u001b[0;31m# Default gradient boosting machine classifier\u001b[0m\u001b[0;34m\u001b[0m\u001b[0;34m\u001b[0m\u001b[0m\n\u001b[1;32m      3\u001b[0m \u001b[0mmodel\u001b[0m \u001b[0;34m=\u001b[0m \u001b[0mlgb\u001b[0m\u001b[0;34m.\u001b[0m\u001b[0mLGBMClassifier\u001b[0m\u001b[0;34m(\u001b[0m\u001b[0;34m)\u001b[0m\u001b[0;34m\u001b[0m\u001b[0m\n\u001b[1;32m      4\u001b[0m \u001b[0mmodel\u001b[0m\u001b[0;34m\u001b[0m\u001b[0m\n\u001b[1;32m      5\u001b[0m LGBMClassifier(boosting_type='gbdt', n_estimators=100,\n",
            "\u001b[0;31mImportError\u001b[0m: No module named 'lgb'"
          ]
        }
      ]
    },
    {
      "cell_type": "code",
      "metadata": {
        "id": "TlbpGJK-XIC-",
        "colab_type": "code",
        "outputId": "4a25dd22-c755-409b-dae2-1abe978a2ea9",
        "colab": {}
      },
      "source": [
        "! pip3 install lgb"
      ],
      "execution_count": 0,
      "outputs": [
        {
          "output_type": "stream",
          "text": [
            "Collecting lgb\n",
            "\u001b[31m  Could not find a version that satisfies the requirement lgb (from versions: )\u001b[0m\n",
            "\u001b[31mNo matching distribution found for lgb\u001b[0m\n",
            "\u001b[33mYou are using pip version 8.1.1, however version 19.0.3 is available.\n",
            "You should consider upgrading via the 'pip install --upgrade pip' command.\u001b[0m\n"
          ],
          "name": "stdout"
        }
      ]
    },
    {
      "cell_type": "code",
      "metadata": {
        "id": "aX9hadKaXIDB",
        "colab_type": "code",
        "colab": {}
      },
      "source": [
        "import lightgbm as lgb"
      ],
      "execution_count": 0,
      "outputs": []
    },
    {
      "cell_type": "code",
      "metadata": {
        "id": "rPdgxjh8XIDF",
        "colab_type": "code",
        "colab": {}
      },
      "source": [
        "lg=lgb.LGBMClassifier()"
      ],
      "execution_count": 0,
      "outputs": []
    },
    {
      "cell_type": "code",
      "metadata": {
        "id": "f_KNOHPGXIDH",
        "colab_type": "code",
        "outputId": "1338d415-3c62-45c3-ae1f-324434bd3348",
        "colab": {}
      },
      "source": [
        "lg.fit(X_new,y)"
      ],
      "execution_count": 0,
      "outputs": [
        {
          "output_type": "stream",
          "text": [
            "/home/prakhar/.local/lib/python3.5/site-packages/lightgbm/engine.py:163: UserWarning: Using Pandas (default) integer column names, not column indexes. You can use indexes with DataFrame.values.\n",
            "  booster = Booster(params=params, train_set=train_set)\n"
          ],
          "name": "stderr"
        },
        {
          "output_type": "execute_result",
          "data": {
            "text/plain": [
              "LGBMClassifier(boosting_type='gbdt', colsample_bytree=1, learning_rate=0.1,\n",
              "        max_bin=255, max_depth=-1, min_child_samples=10,\n",
              "        min_child_weight=5, min_split_gain=0, n_estimators=10, nthread=-1,\n",
              "        num_leaves=31, objective='binary', reg_alpha=0, reg_lambda=0,\n",
              "        seed=0, silent=True, subsample=1, subsample_for_bin=50000,\n",
              "        subsample_freq=1)"
            ]
          },
          "metadata": {
            "tags": []
          },
          "execution_count": 49
        }
      ]
    },
    {
      "cell_type": "code",
      "metadata": {
        "id": "jLnIN8uDXIDM",
        "colab_type": "code",
        "outputId": "e425cd54-adc6-4ad5-ebe5-5a7cd0c150b0",
        "colab": {}
      },
      "source": [
        "pred_lgb=lg.predict(test_best)"
      ],
      "execution_count": 0,
      "outputs": [
        {
          "output_type": "stream",
          "text": [
            "/home/prakhar/.local/lib/python3.5/site-packages/lightgbm/sklearn.py:543: UserWarning: Using Pandas (default) integer column names, not column indexes. You can use indexes with DataFrame.values.\n",
            "  class_probs = self.predict_proba(X, raw_score, num_iteration)\n"
          ],
          "name": "stderr"
        }
      ]
    },
    {
      "cell_type": "markdown",
      "metadata": {
        "id": "nXeRqkqCXIDO",
        "colab_type": "text"
      },
      "source": [
        "## check for data leakage"
      ]
    },
    {
      "cell_type": "code",
      "metadata": {
        "id": "Ovxw4T6iXIDO",
        "colab_type": "code",
        "outputId": "752d355f-73f5-4ac7-e355-42c831403f2e",
        "colab": {}
      },
      "source": [
        "train_copy.head()"
      ],
      "execution_count": 0,
      "outputs": [
        {
          "output_type": "execute_result",
          "data": {
            "text/html": [
              "<div>\n",
              "<style scoped>\n",
              "    .dataframe tbody tr th:only-of-type {\n",
              "        vertical-align: middle;\n",
              "    }\n",
              "\n",
              "    .dataframe tbody tr th {\n",
              "        vertical-align: top;\n",
              "    }\n",
              "\n",
              "    .dataframe thead th {\n",
              "        text-align: right;\n",
              "    }\n",
              "</style>\n",
              "<table border=\"1\" class=\"dataframe\">\n",
              "  <thead>\n",
              "    <tr style=\"text-align: right;\">\n",
              "      <th></th>\n",
              "      <th>UniqueID</th>\n",
              "      <th>disbursed_amount</th>\n",
              "      <th>asset_cost</th>\n",
              "      <th>ltv</th>\n",
              "      <th>branch_id</th>\n",
              "      <th>supplier_id</th>\n",
              "      <th>manufacturer_id</th>\n",
              "      <th>Current_pincode_ID</th>\n",
              "      <th>Date.of.Birth</th>\n",
              "      <th>Employment.Type</th>\n",
              "      <th>DisbursalDate</th>\n",
              "      <th>State_ID</th>\n",
              "      <th>Employee_code_ID</th>\n",
              "      <th>MobileNo_Avl_Flag</th>\n",
              "      <th>Aadhar_flag</th>\n",
              "      <th>PAN_flag</th>\n",
              "      <th>VoterID_flag</th>\n",
              "      <th>Driving_flag</th>\n",
              "      <th>Passport_flag</th>\n",
              "      <th>PERFORM_CNS.SCORE</th>\n",
              "      <th>PERFORM_CNS.SCORE.DESCRIPTION</th>\n",
              "      <th>PRI.NO.OF.ACCTS</th>\n",
              "      <th>PRI.ACTIVE.ACCTS</th>\n",
              "      <th>PRI.OVERDUE.ACCTS</th>\n",
              "      <th>PRI.CURRENT.BALANCE</th>\n",
              "      <th>PRI.SANCTIONED.AMOUNT</th>\n",
              "      <th>PRI.DISBURSED.AMOUNT</th>\n",
              "      <th>SEC.NO.OF.ACCTS</th>\n",
              "      <th>SEC.ACTIVE.ACCTS</th>\n",
              "      <th>SEC.OVERDUE.ACCTS</th>\n",
              "      <th>SEC.CURRENT.BALANCE</th>\n",
              "      <th>SEC.SANCTIONED.AMOUNT</th>\n",
              "      <th>SEC.DISBURSED.AMOUNT</th>\n",
              "      <th>PRIMARY.INSTAL.AMT</th>\n",
              "      <th>SEC.INSTAL.AMT</th>\n",
              "      <th>NEW.ACCTS.IN.LAST.SIX.MONTHS</th>\n",
              "      <th>DELINQUENT.ACCTS.IN.LAST.SIX.MONTHS</th>\n",
              "      <th>AVERAGE.ACCT.AGE</th>\n",
              "      <th>CREDIT.HISTORY.LENGTH</th>\n",
              "      <th>NO.OF_INQUIRIES</th>\n",
              "      <th>loan_default</th>\n",
              "    </tr>\n",
              "  </thead>\n",
              "  <tbody>\n",
              "    <tr>\n",
              "      <th>0</th>\n",
              "      <td>420825</td>\n",
              "      <td>50578</td>\n",
              "      <td>58400</td>\n",
              "      <td>89.55</td>\n",
              "      <td>67</td>\n",
              "      <td>22807</td>\n",
              "      <td>45</td>\n",
              "      <td>1441</td>\n",
              "      <td>01-01-84</td>\n",
              "      <td>Salaried</td>\n",
              "      <td>03-08-18</td>\n",
              "      <td>6</td>\n",
              "      <td>1998</td>\n",
              "      <td>1</td>\n",
              "      <td>1</td>\n",
              "      <td>0</td>\n",
              "      <td>0</td>\n",
              "      <td>0</td>\n",
              "      <td>0</td>\n",
              "      <td>0</td>\n",
              "      <td>No Bureau History Available</td>\n",
              "      <td>0</td>\n",
              "      <td>0</td>\n",
              "      <td>0</td>\n",
              "      <td>0</td>\n",
              "      <td>0</td>\n",
              "      <td>0</td>\n",
              "      <td>0</td>\n",
              "      <td>0</td>\n",
              "      <td>0</td>\n",
              "      <td>0</td>\n",
              "      <td>0</td>\n",
              "      <td>0</td>\n",
              "      <td>0</td>\n",
              "      <td>0</td>\n",
              "      <td>0</td>\n",
              "      <td>0</td>\n",
              "      <td>0yrs 0mon</td>\n",
              "      <td>0yrs 0mon</td>\n",
              "      <td>0</td>\n",
              "      <td>0</td>\n",
              "    </tr>\n",
              "    <tr>\n",
              "      <th>1</th>\n",
              "      <td>537409</td>\n",
              "      <td>47145</td>\n",
              "      <td>65550</td>\n",
              "      <td>73.23</td>\n",
              "      <td>67</td>\n",
              "      <td>22807</td>\n",
              "      <td>45</td>\n",
              "      <td>1502</td>\n",
              "      <td>31-07-85</td>\n",
              "      <td>Self employed</td>\n",
              "      <td>26-09-18</td>\n",
              "      <td>6</td>\n",
              "      <td>1998</td>\n",
              "      <td>1</td>\n",
              "      <td>1</td>\n",
              "      <td>0</td>\n",
              "      <td>0</td>\n",
              "      <td>0</td>\n",
              "      <td>0</td>\n",
              "      <td>598</td>\n",
              "      <td>I-Medium Risk</td>\n",
              "      <td>1</td>\n",
              "      <td>1</td>\n",
              "      <td>1</td>\n",
              "      <td>27600</td>\n",
              "      <td>50200</td>\n",
              "      <td>50200</td>\n",
              "      <td>0</td>\n",
              "      <td>0</td>\n",
              "      <td>0</td>\n",
              "      <td>0</td>\n",
              "      <td>0</td>\n",
              "      <td>0</td>\n",
              "      <td>1991</td>\n",
              "      <td>0</td>\n",
              "      <td>0</td>\n",
              "      <td>1</td>\n",
              "      <td>1yrs 11mon</td>\n",
              "      <td>1yrs 11mon</td>\n",
              "      <td>0</td>\n",
              "      <td>1</td>\n",
              "    </tr>\n",
              "    <tr>\n",
              "      <th>2</th>\n",
              "      <td>417566</td>\n",
              "      <td>53278</td>\n",
              "      <td>61360</td>\n",
              "      <td>89.63</td>\n",
              "      <td>67</td>\n",
              "      <td>22807</td>\n",
              "      <td>45</td>\n",
              "      <td>1497</td>\n",
              "      <td>24-08-85</td>\n",
              "      <td>Self employed</td>\n",
              "      <td>01-08-18</td>\n",
              "      <td>6</td>\n",
              "      <td>1998</td>\n",
              "      <td>1</td>\n",
              "      <td>1</td>\n",
              "      <td>0</td>\n",
              "      <td>0</td>\n",
              "      <td>0</td>\n",
              "      <td>0</td>\n",
              "      <td>0</td>\n",
              "      <td>No Bureau History Available</td>\n",
              "      <td>0</td>\n",
              "      <td>0</td>\n",
              "      <td>0</td>\n",
              "      <td>0</td>\n",
              "      <td>0</td>\n",
              "      <td>0</td>\n",
              "      <td>0</td>\n",
              "      <td>0</td>\n",
              "      <td>0</td>\n",
              "      <td>0</td>\n",
              "      <td>0</td>\n",
              "      <td>0</td>\n",
              "      <td>0</td>\n",
              "      <td>0</td>\n",
              "      <td>0</td>\n",
              "      <td>0</td>\n",
              "      <td>0yrs 0mon</td>\n",
              "      <td>0yrs 0mon</td>\n",
              "      <td>0</td>\n",
              "      <td>0</td>\n",
              "    </tr>\n",
              "    <tr>\n",
              "      <th>3</th>\n",
              "      <td>624493</td>\n",
              "      <td>57513</td>\n",
              "      <td>66113</td>\n",
              "      <td>88.48</td>\n",
              "      <td>67</td>\n",
              "      <td>22807</td>\n",
              "      <td>45</td>\n",
              "      <td>1501</td>\n",
              "      <td>30-12-93</td>\n",
              "      <td>Self employed</td>\n",
              "      <td>26-10-18</td>\n",
              "      <td>6</td>\n",
              "      <td>1998</td>\n",
              "      <td>1</td>\n",
              "      <td>1</td>\n",
              "      <td>0</td>\n",
              "      <td>0</td>\n",
              "      <td>0</td>\n",
              "      <td>0</td>\n",
              "      <td>305</td>\n",
              "      <td>L-Very High Risk</td>\n",
              "      <td>3</td>\n",
              "      <td>0</td>\n",
              "      <td>0</td>\n",
              "      <td>0</td>\n",
              "      <td>0</td>\n",
              "      <td>0</td>\n",
              "      <td>0</td>\n",
              "      <td>0</td>\n",
              "      <td>0</td>\n",
              "      <td>0</td>\n",
              "      <td>0</td>\n",
              "      <td>0</td>\n",
              "      <td>31</td>\n",
              "      <td>0</td>\n",
              "      <td>0</td>\n",
              "      <td>0</td>\n",
              "      <td>0yrs 8mon</td>\n",
              "      <td>1yrs 3mon</td>\n",
              "      <td>1</td>\n",
              "      <td>1</td>\n",
              "    </tr>\n",
              "    <tr>\n",
              "      <th>4</th>\n",
              "      <td>539055</td>\n",
              "      <td>52378</td>\n",
              "      <td>60300</td>\n",
              "      <td>88.39</td>\n",
              "      <td>67</td>\n",
              "      <td>22807</td>\n",
              "      <td>45</td>\n",
              "      <td>1495</td>\n",
              "      <td>09-12-77</td>\n",
              "      <td>Self employed</td>\n",
              "      <td>26-09-18</td>\n",
              "      <td>6</td>\n",
              "      <td>1998</td>\n",
              "      <td>1</td>\n",
              "      <td>1</td>\n",
              "      <td>0</td>\n",
              "      <td>0</td>\n",
              "      <td>0</td>\n",
              "      <td>0</td>\n",
              "      <td>0</td>\n",
              "      <td>No Bureau History Available</td>\n",
              "      <td>0</td>\n",
              "      <td>0</td>\n",
              "      <td>0</td>\n",
              "      <td>0</td>\n",
              "      <td>0</td>\n",
              "      <td>0</td>\n",
              "      <td>0</td>\n",
              "      <td>0</td>\n",
              "      <td>0</td>\n",
              "      <td>0</td>\n",
              "      <td>0</td>\n",
              "      <td>0</td>\n",
              "      <td>0</td>\n",
              "      <td>0</td>\n",
              "      <td>0</td>\n",
              "      <td>0</td>\n",
              "      <td>0yrs 0mon</td>\n",
              "      <td>0yrs 0mon</td>\n",
              "      <td>1</td>\n",
              "      <td>1</td>\n",
              "    </tr>\n",
              "  </tbody>\n",
              "</table>\n",
              "</div>"
            ],
            "text/plain": [
              "   UniqueID  disbursed_amount  asset_cost    ltv  branch_id  supplier_id  \\\n",
              "0    420825             50578       58400  89.55         67        22807   \n",
              "1    537409             47145       65550  73.23         67        22807   \n",
              "2    417566             53278       61360  89.63         67        22807   \n",
              "3    624493             57513       66113  88.48         67        22807   \n",
              "4    539055             52378       60300  88.39         67        22807   \n",
              "\n",
              "   manufacturer_id  Current_pincode_ID Date.of.Birth Employment.Type  \\\n",
              "0               45                1441      01-01-84        Salaried   \n",
              "1               45                1502      31-07-85   Self employed   \n",
              "2               45                1497      24-08-85   Self employed   \n",
              "3               45                1501      30-12-93   Self employed   \n",
              "4               45                1495      09-12-77   Self employed   \n",
              "\n",
              "  DisbursalDate  State_ID  Employee_code_ID  MobileNo_Avl_Flag  Aadhar_flag  \\\n",
              "0      03-08-18         6              1998                  1            1   \n",
              "1      26-09-18         6              1998                  1            1   \n",
              "2      01-08-18         6              1998                  1            1   \n",
              "3      26-10-18         6              1998                  1            1   \n",
              "4      26-09-18         6              1998                  1            1   \n",
              "\n",
              "   PAN_flag  VoterID_flag  Driving_flag  Passport_flag  PERFORM_CNS.SCORE  \\\n",
              "0         0             0             0              0                  0   \n",
              "1         0             0             0              0                598   \n",
              "2         0             0             0              0                  0   \n",
              "3         0             0             0              0                305   \n",
              "4         0             0             0              0                  0   \n",
              "\n",
              "  PERFORM_CNS.SCORE.DESCRIPTION  PRI.NO.OF.ACCTS  PRI.ACTIVE.ACCTS  \\\n",
              "0   No Bureau History Available                0                 0   \n",
              "1                 I-Medium Risk                1                 1   \n",
              "2   No Bureau History Available                0                 0   \n",
              "3              L-Very High Risk                3                 0   \n",
              "4   No Bureau History Available                0                 0   \n",
              "\n",
              "   PRI.OVERDUE.ACCTS  PRI.CURRENT.BALANCE  PRI.SANCTIONED.AMOUNT  \\\n",
              "0                  0                    0                      0   \n",
              "1                  1                27600                  50200   \n",
              "2                  0                    0                      0   \n",
              "3                  0                    0                      0   \n",
              "4                  0                    0                      0   \n",
              "\n",
              "   PRI.DISBURSED.AMOUNT  SEC.NO.OF.ACCTS  SEC.ACTIVE.ACCTS  SEC.OVERDUE.ACCTS  \\\n",
              "0                     0                0                 0                  0   \n",
              "1                 50200                0                 0                  0   \n",
              "2                     0                0                 0                  0   \n",
              "3                     0                0                 0                  0   \n",
              "4                     0                0                 0                  0   \n",
              "\n",
              "   SEC.CURRENT.BALANCE  SEC.SANCTIONED.AMOUNT  SEC.DISBURSED.AMOUNT  \\\n",
              "0                    0                      0                     0   \n",
              "1                    0                      0                     0   \n",
              "2                    0                      0                     0   \n",
              "3                    0                      0                     0   \n",
              "4                    0                      0                     0   \n",
              "\n",
              "   PRIMARY.INSTAL.AMT  SEC.INSTAL.AMT  NEW.ACCTS.IN.LAST.SIX.MONTHS  \\\n",
              "0                   0               0                             0   \n",
              "1                1991               0                             0   \n",
              "2                   0               0                             0   \n",
              "3                  31               0                             0   \n",
              "4                   0               0                             0   \n",
              "\n",
              "   DELINQUENT.ACCTS.IN.LAST.SIX.MONTHS AVERAGE.ACCT.AGE CREDIT.HISTORY.LENGTH  \\\n",
              "0                                    0        0yrs 0mon             0yrs 0mon   \n",
              "1                                    1       1yrs 11mon            1yrs 11mon   \n",
              "2                                    0        0yrs 0mon             0yrs 0mon   \n",
              "3                                    0        0yrs 8mon             1yrs 3mon   \n",
              "4                                    0        0yrs 0mon             0yrs 0mon   \n",
              "\n",
              "   NO.OF_INQUIRIES  loan_default  \n",
              "0                0             0  \n",
              "1                0             1  \n",
              "2                0             0  \n",
              "3                1             1  \n",
              "4                1             1  "
            ]
          },
          "metadata": {
            "tags": []
          },
          "execution_count": 59
        }
      ]
    },
    {
      "cell_type": "code",
      "metadata": {
        "id": "35SeCL3qXIDS",
        "colab_type": "code",
        "outputId": "33d419b9-5ee3-4352-999d-77fca82a800b",
        "colab": {}
      },
      "source": [
        "train_copy[['State_ID','loan_default']].groupby('State_ID').mean()"
      ],
      "execution_count": 0,
      "outputs": [
        {
          "output_type": "execute_result",
          "data": {
            "text/html": [
              "<div>\n",
              "<style scoped>\n",
              "    .dataframe tbody tr th:only-of-type {\n",
              "        vertical-align: middle;\n",
              "    }\n",
              "\n",
              "    .dataframe tbody tr th {\n",
              "        vertical-align: top;\n",
              "    }\n",
              "\n",
              "    .dataframe thead th {\n",
              "        text-align: right;\n",
              "    }\n",
              "</style>\n",
              "<table border=\"1\" class=\"dataframe\">\n",
              "  <thead>\n",
              "    <tr style=\"text-align: right;\">\n",
              "      <th></th>\n",
              "      <th>loan_default</th>\n",
              "    </tr>\n",
              "    <tr>\n",
              "      <th>State_ID</th>\n",
              "      <th></th>\n",
              "    </tr>\n",
              "  </thead>\n",
              "  <tbody>\n",
              "    <tr>\n",
              "      <th>1</th>\n",
              "      <td>0.177149</td>\n",
              "    </tr>\n",
              "    <tr>\n",
              "      <th>2</th>\n",
              "      <td>0.271394</td>\n",
              "    </tr>\n",
              "    <tr>\n",
              "      <th>3</th>\n",
              "      <td>0.186191</td>\n",
              "    </tr>\n",
              "    <tr>\n",
              "      <th>4</th>\n",
              "      <td>0.207845</td>\n",
              "    </tr>\n",
              "    <tr>\n",
              "      <th>5</th>\n",
              "      <td>0.198782</td>\n",
              "    </tr>\n",
              "    <tr>\n",
              "      <th>6</th>\n",
              "      <td>0.205641</td>\n",
              "    </tr>\n",
              "    <tr>\n",
              "      <th>7</th>\n",
              "      <td>0.201739</td>\n",
              "    </tr>\n",
              "    <tr>\n",
              "      <th>8</th>\n",
              "      <td>0.229485</td>\n",
              "    </tr>\n",
              "    <tr>\n",
              "      <th>9</th>\n",
              "      <td>0.217950</td>\n",
              "    </tr>\n",
              "    <tr>\n",
              "      <th>10</th>\n",
              "      <td>0.175589</td>\n",
              "    </tr>\n",
              "    <tr>\n",
              "      <th>11</th>\n",
              "      <td>0.204285</td>\n",
              "    </tr>\n",
              "    <tr>\n",
              "      <th>12</th>\n",
              "      <td>0.265558</td>\n",
              "    </tr>\n",
              "    <tr>\n",
              "      <th>13</th>\n",
              "      <td>0.306587</td>\n",
              "    </tr>\n",
              "    <tr>\n",
              "      <th>14</th>\n",
              "      <td>0.275866</td>\n",
              "    </tr>\n",
              "    <tr>\n",
              "      <th>15</th>\n",
              "      <td>0.211527</td>\n",
              "    </tr>\n",
              "    <tr>\n",
              "      <th>16</th>\n",
              "      <td>0.183613</td>\n",
              "    </tr>\n",
              "    <tr>\n",
              "      <th>17</th>\n",
              "      <td>0.245803</td>\n",
              "    </tr>\n",
              "    <tr>\n",
              "      <th>18</th>\n",
              "      <td>0.220067</td>\n",
              "    </tr>\n",
              "    <tr>\n",
              "      <th>19</th>\n",
              "      <td>0.180676</td>\n",
              "    </tr>\n",
              "    <tr>\n",
              "      <th>20</th>\n",
              "      <td>0.172973</td>\n",
              "    </tr>\n",
              "    <tr>\n",
              "      <th>21</th>\n",
              "      <td>0.198718</td>\n",
              "    </tr>\n",
              "    <tr>\n",
              "      <th>22</th>\n",
              "      <td>0.118421</td>\n",
              "    </tr>\n",
              "  </tbody>\n",
              "</table>\n",
              "</div>"
            ],
            "text/plain": [
              "          loan_default\n",
              "State_ID              \n",
              "1             0.177149\n",
              "2             0.271394\n",
              "3             0.186191\n",
              "4             0.207845\n",
              "5             0.198782\n",
              "6             0.205641\n",
              "7             0.201739\n",
              "8             0.229485\n",
              "9             0.217950\n",
              "10            0.175589\n",
              "11            0.204285\n",
              "12            0.265558\n",
              "13            0.306587\n",
              "14            0.275866\n",
              "15            0.211527\n",
              "16            0.183613\n",
              "17            0.245803\n",
              "18            0.220067\n",
              "19            0.180676\n",
              "20            0.172973\n",
              "21            0.198718\n",
              "22            0.118421"
            ]
          },
          "metadata": {
            "tags": []
          },
          "execution_count": 60
        }
      ]
    },
    {
      "cell_type": "code",
      "metadata": {
        "id": "-GIEVw5sXIDZ",
        "colab_type": "code",
        "outputId": "fefa8c9d-5dfe-49de-9539-47ff490d25e1",
        "colab": {}
      },
      "source": [
        "train_copy['State_ID'].value_counts()/train_copy.shape[0]*100"
      ],
      "execution_count": 0,
      "outputs": [
        {
          "output_type": "execute_result",
          "data": {
            "text/plain": [
              "4     19.244791\n",
              "3     14.616091\n",
              "6     14.370330\n",
              "13     7.670467\n",
              "9      6.871853\n",
              "8      6.089108\n",
              "5      4.364926\n",
              "14     4.037675\n",
              "1      3.832660\n",
              "7      2.910523\n",
              "11     2.882644\n",
              "18     2.321213\n",
              "15     2.165522\n",
              "12     1.805674\n",
              "2      1.784228\n",
              "17     1.711744\n",
              "10     1.546188\n",
              "16     1.151599\n",
              "19     0.443913\n",
              "20     0.079347\n",
              "21     0.066909\n",
              "22     0.032596\n",
              "Name: State_ID, dtype: float64"
            ]
          },
          "metadata": {
            "tags": []
          },
          "execution_count": 70
        }
      ]
    },
    {
      "cell_type": "code",
      "metadata": {
        "id": "94KC2Q7FXIDg",
        "colab_type": "code",
        "outputId": "1dd42538-8218-4989-d318-99c95736ccc2",
        "colab": {}
      },
      "source": [
        "train_copy['PERFORM_CNS.SCORE.DESCRIPTION'].value_counts()/train_copy.shape[0]*100"
      ],
      "execution_count": 0,
      "outputs": [
        {
          "output_type": "execute_result",
          "data": {
            "text/plain": [
              "No Bureau History Available                                50.159980\n",
              "C-Very Low Risk                                             6.881718\n",
              "A-Very Low Risk                                             6.057799\n",
              "D-Very Low Risk                                             4.871458\n",
              "B-Very Low Risk                                             3.946319\n",
              "M-Very High Risk                                            3.764036\n",
              "F-Low Risk                                                  3.639226\n",
              "K-High Risk                                                 3.550014\n",
              "H-Medium Risk                                               2.940117\n",
              "E-Low Risk                                                  2.496633\n",
              "I-Medium Risk                                               2.383403\n",
              "G-Low Risk                                                  1.710457\n",
              "Not Scored: Sufficient History Not Available                1.614813\n",
              "J-High Risk                                                 1.607521\n",
              "Not Scored: Not Enough Info available on the customer       1.574925\n",
              "Not Scored: No Activity seen on the customer (Inactive)     1.237380\n",
              "Not Scored: No Updates available in last 36 months          0.657934\n",
              "L-Very High Risk                                            0.486374\n",
              "Not Scored: Only a Guarantor                                0.418607\n",
              "Not Scored: More than 50 active Accounts found              0.001287\n",
              "Name: PERFORM_CNS.SCORE.DESCRIPTION, dtype: float64"
            ]
          },
          "metadata": {
            "tags": []
          },
          "execution_count": 71
        }
      ]
    },
    {
      "cell_type": "code",
      "metadata": {
        "id": "s4vijKUBXIDi",
        "colab_type": "code",
        "outputId": "b8019e4d-fe98-4a32-9007-515fc7c1b642",
        "colab": {}
      },
      "source": [
        "train_copy[['PERFORM_CNS.SCORE.DESCRIPTION','loan_default']].groupby('PERFORM_CNS.SCORE.DESCRIPTION').mean()"
      ],
      "execution_count": 0,
      "outputs": [
        {
          "output_type": "execute_result",
          "data": {
            "text/html": [
              "<div>\n",
              "<style scoped>\n",
              "    .dataframe tbody tr th:only-of-type {\n",
              "        vertical-align: middle;\n",
              "    }\n",
              "\n",
              "    .dataframe tbody tr th {\n",
              "        vertical-align: top;\n",
              "    }\n",
              "\n",
              "    .dataframe thead th {\n",
              "        text-align: right;\n",
              "    }\n",
              "</style>\n",
              "<table border=\"1\" class=\"dataframe\">\n",
              "  <thead>\n",
              "    <tr style=\"text-align: right;\">\n",
              "      <th></th>\n",
              "      <th>loan_default</th>\n",
              "    </tr>\n",
              "    <tr>\n",
              "      <th>PERFORM_CNS.SCORE.DESCRIPTION</th>\n",
              "      <th></th>\n",
              "    </tr>\n",
              "  </thead>\n",
              "  <tbody>\n",
              "    <tr>\n",
              "      <th>A-Very Low Risk</th>\n",
              "      <td>0.165746</td>\n",
              "    </tr>\n",
              "    <tr>\n",
              "      <th>B-Very Low Risk</th>\n",
              "      <td>0.131290</td>\n",
              "    </tr>\n",
              "    <tr>\n",
              "      <th>C-Very Low Risk</th>\n",
              "      <td>0.172639</td>\n",
              "    </tr>\n",
              "    <tr>\n",
              "      <th>D-Very Low Risk</th>\n",
              "      <td>0.149586</td>\n",
              "    </tr>\n",
              "    <tr>\n",
              "      <th>E-Low Risk</th>\n",
              "      <td>0.171792</td>\n",
              "    </tr>\n",
              "    <tr>\n",
              "      <th>F-Low Risk</th>\n",
              "      <td>0.186211</td>\n",
              "    </tr>\n",
              "    <tr>\n",
              "      <th>G-Low Risk</th>\n",
              "      <td>0.197091</td>\n",
              "    </tr>\n",
              "    <tr>\n",
              "      <th>H-Medium Risk</th>\n",
              "      <td>0.241867</td>\n",
              "    </tr>\n",
              "    <tr>\n",
              "      <th>I-Medium Risk</th>\n",
              "      <td>0.272629</td>\n",
              "    </tr>\n",
              "    <tr>\n",
              "      <th>J-High Risk</th>\n",
              "      <td>0.252401</td>\n",
              "    </tr>\n",
              "    <tr>\n",
              "      <th>K-High Risk</th>\n",
              "      <td>0.278120</td>\n",
              "    </tr>\n",
              "    <tr>\n",
              "      <th>L-Very High Risk</th>\n",
              "      <td>0.280423</td>\n",
              "    </tr>\n",
              "    <tr>\n",
              "      <th>M-Very High Risk</th>\n",
              "      <td>0.304581</td>\n",
              "    </tr>\n",
              "    <tr>\n",
              "      <th>No Bureau History Available</th>\n",
              "      <td>0.231313</td>\n",
              "    </tr>\n",
              "    <tr>\n",
              "      <th>Not Scored: More than 50 active Accounts found</th>\n",
              "      <td>0.000000</td>\n",
              "    </tr>\n",
              "    <tr>\n",
              "      <th>Not Scored: No Activity seen on the customer (Inactive)</th>\n",
              "      <td>0.183709</td>\n",
              "    </tr>\n",
              "    <tr>\n",
              "      <th>Not Scored: No Updates available in last 36 months</th>\n",
              "      <td>0.190352</td>\n",
              "    </tr>\n",
              "    <tr>\n",
              "      <th>Not Scored: Not Enough Info available on the customer</th>\n",
              "      <td>0.209695</td>\n",
              "    </tr>\n",
              "    <tr>\n",
              "      <th>Not Scored: Only a Guarantor</th>\n",
              "      <td>0.213115</td>\n",
              "    </tr>\n",
              "    <tr>\n",
              "      <th>Not Scored: Sufficient History Not Available</th>\n",
              "      <td>0.255777</td>\n",
              "    </tr>\n",
              "  </tbody>\n",
              "</table>\n",
              "</div>"
            ],
            "text/plain": [
              "                                                    loan_default\n",
              "PERFORM_CNS.SCORE.DESCRIPTION                                   \n",
              "A-Very Low Risk                                         0.165746\n",
              "B-Very Low Risk                                         0.131290\n",
              "C-Very Low Risk                                         0.172639\n",
              "D-Very Low Risk                                         0.149586\n",
              "E-Low Risk                                              0.171792\n",
              "F-Low Risk                                              0.186211\n",
              "G-Low Risk                                              0.197091\n",
              "H-Medium Risk                                           0.241867\n",
              "I-Medium Risk                                           0.272629\n",
              "J-High Risk                                             0.252401\n",
              "K-High Risk                                             0.278120\n",
              "L-Very High Risk                                        0.280423\n",
              "M-Very High Risk                                        0.304581\n",
              "No Bureau History Available                             0.231313\n",
              "Not Scored: More than 50 active Accounts found          0.000000\n",
              "Not Scored: No Activity seen on the customer (I...      0.183709\n",
              "Not Scored: No Updates available in last 36 months      0.190352\n",
              "Not Scored: Not Enough Info available on the cu...      0.209695\n",
              "Not Scored: Only a Guarantor                            0.213115\n",
              "Not Scored: Sufficient History Not Available            0.255777"
            ]
          },
          "metadata": {
            "tags": []
          },
          "execution_count": 69
        }
      ]
    },
    {
      "cell_type": "markdown",
      "metadata": {
        "id": "tlCwzdc0XIDm",
        "colab_type": "text"
      },
      "source": [
        "## Bi Variate Analysis"
      ]
    },
    {
      "cell_type": "code",
      "metadata": {
        "id": "b5clbvW2XIDm",
        "colab_type": "code",
        "colab": {}
      },
      "source": [
        "def bi_variate(df,col1):\n",
        "    sln.distplot(np.log1p(df[df['loan_default']==1][col1]),label='default')\n",
        "    sln.distplot(np.log1p(df[df['loan_default']==0][col1]),label='non-default')\n",
        "    plt.legend(['default','non-default'])"
      ],
      "execution_count": 0,
      "outputs": []
    },
    {
      "cell_type": "code",
      "metadata": {
        "id": "0gJAQqj5XIDq",
        "colab_type": "code",
        "outputId": "9b417cc3-8657-4328-e4c9-c781f4a99b9b",
        "colab": {}
      },
      "source": [
        "bi_variate(train,'PRI.NO.OF.ACCTS')"
      ],
      "execution_count": 0,
      "outputs": [
        {
          "output_type": "display_data",
          "data": {
            "image/png": "[encoded data removed]",
            "text/plain": [
              "<matplotlib.figure.Figure at 0x7ff3072deeb8>"
            ]
          },
          "metadata": {
            "tags": [],
            "needs_background": "light"
          }
        }
      ]
    },
    {
      "cell_type": "code",
      "metadata": {
        "id": "IDls5KkeXIDy",
        "colab_type": "code",
        "outputId": "e0e43c8b-3ee5-41b3-b0af-168ec736e5db",
        "colab": {}
      },
      "source": [
        "bi_variate(train,'PRI.ACTIVE.ACCTS')"
      ],
      "execution_count": 0,
      "outputs": [
        {
          "output_type": "display_data",
          "data": {
            "image/png": "[encoded data removed]",
            "text/plain": [
              "<matplotlib.figure.Figure at 0x7ff2fe151390>"
            ]
          },
          "metadata": {
            "tags": [],
            "needs_background": "light"
          }
        }
      ]
    },
    {
      "cell_type": "code",
      "metadata": {
        "id": "-oXwJwh0XID4",
        "colab_type": "code",
        "outputId": "2ca25106-adbf-453f-b6e8-05d4fac34f16",
        "colab": {}
      },
      "source": [
        "bi_variate(train,'PRI.OVERDUE.ACCTS')"
      ],
      "execution_count": 0,
      "outputs": [
        {
          "output_type": "display_data",
          "data": {
            "image/png": "[encoded data removed]",
            "text/plain": [
              "<matplotlib.figure.Figure at 0x7ff3072e2c50>"
            ]
          },
          "metadata": {
            "tags": [],
            "needs_background": "light"
          }
        }
      ]
    },
    {
      "cell_type": "code",
      "metadata": {
        "id": "CpdvSfzgXID-",
        "colab_type": "code",
        "outputId": "22bf5279-00ab-4bf5-93e3-2f63076316b6",
        "colab": {}
      },
      "source": [
        "sln.boxplot(train['loan_default'],train['PRI.CURRENT.BALANCE']/1000000)"
      ],
      "execution_count": 0,
      "outputs": [
        {
          "output_type": "execute_result",
          "data": {
            "text/plain": [
              "<matplotlib.axes._subplots.AxesSubplot at 0x7ff2fdf7ac88>"
            ]
          },
          "metadata": {
            "tags": []
          },
          "execution_count": 102
        },
        {
          "output_type": "display_data",
          "data": {
            "image/png": "[encoded data removed]",
            "text/plain": [
              "<matplotlib.figure.Figure at 0x7ff2fdfbbe10>"
            ]
          },
          "metadata": {
            "tags": [],
            "needs_background": "light"
          }
        }
      ]
    },
    {
      "cell_type": "code",
      "metadata": {
        "id": "FNP4vfiYXIEC",
        "colab_type": "code",
        "outputId": "33004906-cee1-4f76-abd7-458f91f00263",
        "colab": {}
      },
      "source": [
        "sln.boxplot(train['loan_default'],train['PRI.SANCTIONED.AMOUNT']/1000000)"
      ],
      "execution_count": 0,
      "outputs": [
        {
          "output_type": "execute_result",
          "data": {
            "text/plain": [
              "<matplotlib.axes._subplots.AxesSubplot at 0x7ff2fe07ac88>"
            ]
          },
          "metadata": {
            "tags": []
          },
          "execution_count": 105
        },
        {
          "output_type": "display_data",
          "data": {
            "image/png": "[encoded data removed]",
            "text/plain": [
              "<matplotlib.figure.Figure at 0x7ff2fdfca080>"
            ]
          },
          "metadata": {
            "tags": [],
            "needs_background": "light"
          }
        }
      ]
    },
    {
      "cell_type": "code",
      "metadata": {
        "id": "NuFUqFrfXIEG",
        "colab_type": "code",
        "outputId": "cbc5fd45-643f-46f1-9214-e6b76eb574b4",
        "colab": {}
      },
      "source": [
        "train[['Employee_code_ID','loan_default']].groupby('Employee_code_ID').mean()"
      ],
      "execution_count": 0,
      "outputs": [
        {
          "output_type": "execute_result",
          "data": {
            "text/html": [
              "<div>\n",
              "<style scoped>\n",
              "    .dataframe tbody tr th:only-of-type {\n",
              "        vertical-align: middle;\n",
              "    }\n",
              "\n",
              "    .dataframe tbody tr th {\n",
              "        vertical-align: top;\n",
              "    }\n",
              "\n",
              "    .dataframe thead th {\n",
              "        text-align: right;\n",
              "    }\n",
              "</style>\n",
              "<table border=\"1\" class=\"dataframe\">\n",
              "  <thead>\n",
              "    <tr style=\"text-align: right;\">\n",
              "      <th></th>\n",
              "      <th>loan_default</th>\n",
              "    </tr>\n",
              "    <tr>\n",
              "      <th>Employee_code_ID</th>\n",
              "      <th></th>\n",
              "    </tr>\n",
              "  </thead>\n",
              "  <tbody>\n",
              "    <tr>\n",
              "      <th>1</th>\n",
              "      <td>0.262500</td>\n",
              "    </tr>\n",
              "    <tr>\n",
              "      <th>3</th>\n",
              "      <td>0.442953</td>\n",
              "    </tr>\n",
              "    <tr>\n",
              "      <th>4</th>\n",
              "      <td>0.313433</td>\n",
              "    </tr>\n",
              "    <tr>\n",
              "      <th>5</th>\n",
              "      <td>0.191919</td>\n",
              "    </tr>\n",
              "    <tr>\n",
              "      <th>7</th>\n",
              "      <td>0.111111</td>\n",
              "    </tr>\n",
              "    <tr>\n",
              "      <th>9</th>\n",
              "      <td>0.303571</td>\n",
              "    </tr>\n",
              "    <tr>\n",
              "      <th>10</th>\n",
              "      <td>0.181818</td>\n",
              "    </tr>\n",
              "    <tr>\n",
              "      <th>11</th>\n",
              "      <td>0.152941</td>\n",
              "    </tr>\n",
              "    <tr>\n",
              "      <th>12</th>\n",
              "      <td>0.168067</td>\n",
              "    </tr>\n",
              "    <tr>\n",
              "      <th>15</th>\n",
              "      <td>0.227273</td>\n",
              "    </tr>\n",
              "    <tr>\n",
              "      <th>17</th>\n",
              "      <td>0.161290</td>\n",
              "    </tr>\n",
              "    <tr>\n",
              "      <th>19</th>\n",
              "      <td>0.212121</td>\n",
              "    </tr>\n",
              "    <tr>\n",
              "      <th>21</th>\n",
              "      <td>0.170213</td>\n",
              "    </tr>\n",
              "    <tr>\n",
              "      <th>22</th>\n",
              "      <td>0.166667</td>\n",
              "    </tr>\n",
              "    <tr>\n",
              "      <th>24</th>\n",
              "      <td>0.152174</td>\n",
              "    </tr>\n",
              "    <tr>\n",
              "      <th>30</th>\n",
              "      <td>0.000000</td>\n",
              "    </tr>\n",
              "    <tr>\n",
              "      <th>31</th>\n",
              "      <td>0.222222</td>\n",
              "    </tr>\n",
              "    <tr>\n",
              "      <th>32</th>\n",
              "      <td>0.171429</td>\n",
              "    </tr>\n",
              "    <tr>\n",
              "      <th>33</th>\n",
              "      <td>0.154930</td>\n",
              "    </tr>\n",
              "    <tr>\n",
              "      <th>34</th>\n",
              "      <td>0.167939</td>\n",
              "    </tr>\n",
              "    <tr>\n",
              "      <th>36</th>\n",
              "      <td>0.166667</td>\n",
              "    </tr>\n",
              "    <tr>\n",
              "      <th>39</th>\n",
              "      <td>0.166667</td>\n",
              "    </tr>\n",
              "    <tr>\n",
              "      <th>40</th>\n",
              "      <td>0.117647</td>\n",
              "    </tr>\n",
              "    <tr>\n",
              "      <th>42</th>\n",
              "      <td>0.250000</td>\n",
              "    </tr>\n",
              "    <tr>\n",
              "      <th>43</th>\n",
              "      <td>0.153061</td>\n",
              "    </tr>\n",
              "    <tr>\n",
              "      <th>45</th>\n",
              "      <td>0.173913</td>\n",
              "    </tr>\n",
              "    <tr>\n",
              "      <th>46</th>\n",
              "      <td>0.238806</td>\n",
              "    </tr>\n",
              "    <tr>\n",
              "      <th>48</th>\n",
              "      <td>0.278846</td>\n",
              "    </tr>\n",
              "    <tr>\n",
              "      <th>49</th>\n",
              "      <td>0.273333</td>\n",
              "    </tr>\n",
              "    <tr>\n",
              "      <th>50</th>\n",
              "      <td>0.163934</td>\n",
              "    </tr>\n",
              "    <tr>\n",
              "      <th>...</th>\n",
              "      <td>...</td>\n",
              "    </tr>\n",
              "    <tr>\n",
              "      <th>3766</th>\n",
              "      <td>1.000000</td>\n",
              "    </tr>\n",
              "    <tr>\n",
              "      <th>3767</th>\n",
              "      <td>0.333333</td>\n",
              "    </tr>\n",
              "    <tr>\n",
              "      <th>3768</th>\n",
              "      <td>0.000000</td>\n",
              "    </tr>\n",
              "    <tr>\n",
              "      <th>3769</th>\n",
              "      <td>0.000000</td>\n",
              "    </tr>\n",
              "    <tr>\n",
              "      <th>3770</th>\n",
              "      <td>0.000000</td>\n",
              "    </tr>\n",
              "    <tr>\n",
              "      <th>3771</th>\n",
              "      <td>1.000000</td>\n",
              "    </tr>\n",
              "    <tr>\n",
              "      <th>3772</th>\n",
              "      <td>0.000000</td>\n",
              "    </tr>\n",
              "    <tr>\n",
              "      <th>3773</th>\n",
              "      <td>0.444444</td>\n",
              "    </tr>\n",
              "    <tr>\n",
              "      <th>3774</th>\n",
              "      <td>0.000000</td>\n",
              "    </tr>\n",
              "    <tr>\n",
              "      <th>3775</th>\n",
              "      <td>0.333333</td>\n",
              "    </tr>\n",
              "    <tr>\n",
              "      <th>3776</th>\n",
              "      <td>0.000000</td>\n",
              "    </tr>\n",
              "    <tr>\n",
              "      <th>3777</th>\n",
              "      <td>0.000000</td>\n",
              "    </tr>\n",
              "    <tr>\n",
              "      <th>3778</th>\n",
              "      <td>0.333333</td>\n",
              "    </tr>\n",
              "    <tr>\n",
              "      <th>3779</th>\n",
              "      <td>0.000000</td>\n",
              "    </tr>\n",
              "    <tr>\n",
              "      <th>3780</th>\n",
              "      <td>1.000000</td>\n",
              "    </tr>\n",
              "    <tr>\n",
              "      <th>3781</th>\n",
              "      <td>0.500000</td>\n",
              "    </tr>\n",
              "    <tr>\n",
              "      <th>3782</th>\n",
              "      <td>0.000000</td>\n",
              "    </tr>\n",
              "    <tr>\n",
              "      <th>3783</th>\n",
              "      <td>1.000000</td>\n",
              "    </tr>\n",
              "    <tr>\n",
              "      <th>3784</th>\n",
              "      <td>1.000000</td>\n",
              "    </tr>\n",
              "    <tr>\n",
              "      <th>3785</th>\n",
              "      <td>0.000000</td>\n",
              "    </tr>\n",
              "    <tr>\n",
              "      <th>3786</th>\n",
              "      <td>0.000000</td>\n",
              "    </tr>\n",
              "    <tr>\n",
              "      <th>3787</th>\n",
              "      <td>0.000000</td>\n",
              "    </tr>\n",
              "    <tr>\n",
              "      <th>3788</th>\n",
              "      <td>0.000000</td>\n",
              "    </tr>\n",
              "    <tr>\n",
              "      <th>3789</th>\n",
              "      <td>0.000000</td>\n",
              "    </tr>\n",
              "    <tr>\n",
              "      <th>3790</th>\n",
              "      <td>0.000000</td>\n",
              "    </tr>\n",
              "    <tr>\n",
              "      <th>3791</th>\n",
              "      <td>0.333333</td>\n",
              "    </tr>\n",
              "    <tr>\n",
              "      <th>3792</th>\n",
              "      <td>0.000000</td>\n",
              "    </tr>\n",
              "    <tr>\n",
              "      <th>3793</th>\n",
              "      <td>1.000000</td>\n",
              "    </tr>\n",
              "    <tr>\n",
              "      <th>3794</th>\n",
              "      <td>0.000000</td>\n",
              "    </tr>\n",
              "    <tr>\n",
              "      <th>3795</th>\n",
              "      <td>1.000000</td>\n",
              "    </tr>\n",
              "  </tbody>\n",
              "</table>\n",
              "<p>3270 rows × 1 columns</p>\n",
              "</div>"
            ],
            "text/plain": [
              "                  loan_default\n",
              "Employee_code_ID              \n",
              "1                     0.262500\n",
              "3                     0.442953\n",
              "4                     0.313433\n",
              "5                     0.191919\n",
              "7                     0.111111\n",
              "9                     0.303571\n",
              "10                    0.181818\n",
              "11                    0.152941\n",
              "12                    0.168067\n",
              "15                    0.227273\n",
              "17                    0.161290\n",
              "19                    0.212121\n",
              "21                    0.170213\n",
              "22                    0.166667\n",
              "24                    0.152174\n",
              "30                    0.000000\n",
              "31                    0.222222\n",
              "32                    0.171429\n",
              "33                    0.154930\n",
              "34                    0.167939\n",
              "36                    0.166667\n",
              "39                    0.166667\n",
              "40                    0.117647\n",
              "42                    0.250000\n",
              "43                    0.153061\n",
              "45                    0.173913\n",
              "46                    0.238806\n",
              "48                    0.278846\n",
              "49                    0.273333\n",
              "50                    0.163934\n",
              "...                        ...\n",
              "3766                  1.000000\n",
              "3767                  0.333333\n",
              "3768                  0.000000\n",
              "3769                  0.000000\n",
              "3770                  0.000000\n",
              "3771                  1.000000\n",
              "3772                  0.000000\n",
              "3773                  0.444444\n",
              "3774                  0.000000\n",
              "3775                  0.333333\n",
              "3776                  0.000000\n",
              "3777                  0.000000\n",
              "3778                  0.333333\n",
              "3779                  0.000000\n",
              "3780                  1.000000\n",
              "3781                  0.500000\n",
              "3782                  0.000000\n",
              "3783                  1.000000\n",
              "3784                  1.000000\n",
              "3785                  0.000000\n",
              "3786                  0.000000\n",
              "3787                  0.000000\n",
              "3788                  0.000000\n",
              "3789                  0.000000\n",
              "3790                  0.000000\n",
              "3791                  0.333333\n",
              "3792                  0.000000\n",
              "3793                  1.000000\n",
              "3794                  0.000000\n",
              "3795                  1.000000\n",
              "\n",
              "[3270 rows x 1 columns]"
            ]
          },
          "metadata": {
            "tags": []
          },
          "execution_count": 108
        }
      ]
    },
    {
      "cell_type": "code",
      "metadata": {
        "id": "nsEiXydbXIEK",
        "colab_type": "code",
        "colab": {}
      },
      "source": [
        "X_new['Emp_id']=train['Employee_code_ID']"
      ],
      "execution_count": 0,
      "outputs": []
    },
    {
      "cell_type": "markdown",
      "metadata": {
        "id": "1FfUschMXIEM",
        "colab_type": "text"
      },
      "source": [
        "## ONE Class svm"
      ]
    },
    {
      "cell_type": "code",
      "metadata": {
        "id": "bcfE3e3OXIEN",
        "colab_type": "code",
        "colab": {}
      },
      "source": [
        "from sklearn.svm import L"
      ],
      "execution_count": 0,
      "outputs": []
    },
    {
      "cell_type": "code",
      "metadata": {
        "id": "LznuG73IXIEX",
        "colab_type": "code",
        "colab": {}
      },
      "source": [
        "clf = svm.OneClassSVM(nu=0.1, kernel=\"rbf\", gamma=0.1)"
      ],
      "execution_count": 0,
      "outputs": []
    },
    {
      "cell_type": "code",
      "metadata": {
        "id": "rQnvh5x_XIEZ",
        "colab_type": "code",
        "colab": {}
      },
      "source": [
        "clf.fit(X_new)"
      ],
      "execution_count": 0,
      "outputs": []
    },
    {
      "cell_type": "code",
      "metadata": {
        "id": "vijPzby0XIEc",
        "colab_type": "code",
        "colab": {}
      },
      "source": [
        "pred_one_svm = clf.predict(test_best)"
      ],
      "execution_count": 0,
      "outputs": []
    }
  ]
}